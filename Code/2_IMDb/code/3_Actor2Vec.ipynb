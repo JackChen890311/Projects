{
 "cells": [
  {
   "cell_type": "code",
   "execution_count": 18,
   "id": "4aad99df",
   "metadata": {},
   "outputs": [],
   "source": [
    "import pandas as pd\n",
    "import numpy as np\n",
    "import pickle as pk\n",
    "import matplotlib.pyplot as plt\n",
    "from gensim.models import Word2Vec\n",
    "from sklearn.preprocessing import OneHotEncoder\n",
    "from sklearn.preprocessing import MultiLabelBinarizer\n",
    "from sklearn.preprocessing import StandardScaler\n",
    "from sklearn.linear_model import LinearRegression\n",
    "pd.set_option('display.float_format', lambda x: '%.4f' % x)\n",
    "np.set_printoptions(suppress=True) "
   ]
  },
  {
   "cell_type": "code",
   "execution_count": 18,
   "id": "2eabb5e4",
   "metadata": {},
   "outputs": [
    {
     "name": "stderr",
     "output_type": "stream",
     "text": [
      "/usr/local/lib/python3.8/dist-packages/IPython/core/interactiveshell.py:3441: DtypeWarning: Columns (5) have mixed types.Specify dtype option on import or set low_memory=False.\n",
      "  exec(code_obj, self.user_global_ns, self.user_ns)\n"
     ]
    }
   ],
   "source": [
    "df_rating = pd.read_csv('title_rating.tsv',delimiter='\\t')\n",
    "df_name = pd.read_csv('name_basic.tsv',delimiter='\\t')\n",
    "df_title = pd.read_csv('title_basic.tsv',delimiter='\\t')\n",
    "df_nt = pd.read_csv('title_principal.tsv',delimiter='\\t')"
   ]
  },
  {
   "cell_type": "code",
   "execution_count": 3,
   "id": "4c30dc89",
   "metadata": {},
   "outputs": [
    {
     "name": "stdout",
     "output_type": "stream",
     "text": [
      "Index(['tconst', 'averageRating', 'numVotes'], dtype='object')\n",
      "Index(['nconst', 'primaryName', 'birthYear', 'deathYear', 'primaryProfession',\n",
      "       'knownForTitles'],\n",
      "      dtype='object')\n",
      "Index(['tconst', 'titleType', 'primaryTitle', 'originalTitle', 'isAdult',\n",
      "       'startYear', 'endYear', 'runtimeMinutes', 'genres'],\n",
      "      dtype='object')\n",
      "Index(['tconst', 'ordering', 'nconst', 'category', 'job', 'characters'], dtype='object')\n"
     ]
    }
   ],
   "source": [
    "print(df_rating.columns)\n",
    "print(df_name.columns)\n",
    "print(df_title.columns)\n",
    "print(df_nt.columns)"
   ]
  },
  {
   "cell_type": "code",
   "execution_count": 4,
   "id": "efc23d47",
   "metadata": {},
   "outputs": [
    {
     "data": {
      "text/plain": [
       "array(['short', 'movie', 'tvMovie', 'tvSeries', 'tvEpisode', 'tvShort',\n",
       "       'tvMiniSeries', 'tvSpecial', 'video', 'videoGame'], dtype=object)"
      ]
     },
     "execution_count": 4,
     "metadata": {},
     "output_type": "execute_result"
    }
   ],
   "source": [
    "df_title.titleType.unique()"
   ]
  },
  {
   "cell_type": "markdown",
   "id": "9f9e6619",
   "metadata": {},
   "source": [
    "### Data Preparation\n",
    "準備訓練模型所需資料"
   ]
  },
  {
   "cell_type": "code",
   "execution_count": 18,
   "id": "96d4d184",
   "metadata": {},
   "outputs": [],
   "source": [
    "cast = df_nt[df_nt['category'].isin(['actor', 'actress'])]\n",
    "crew = df_nt[~df_nt['category'].isin(['actor', 'actress'])]"
   ]
  },
  {
   "cell_type": "code",
   "execution_count": 23,
   "id": "d62e4097",
   "metadata": {},
   "outputs": [
    {
     "data": {
      "text/html": [
       "<div>\n",
       "<style scoped>\n",
       "    .dataframe tbody tr th:only-of-type {\n",
       "        vertical-align: middle;\n",
       "    }\n",
       "\n",
       "    .dataframe tbody tr th {\n",
       "        vertical-align: top;\n",
       "    }\n",
       "\n",
       "    .dataframe thead th {\n",
       "        text-align: right;\n",
       "    }\n",
       "</style>\n",
       "<table border=\"1\" class=\"dataframe\">\n",
       "  <thead>\n",
       "    <tr style=\"text-align: right;\">\n",
       "      <th></th>\n",
       "      <th>tconst</th>\n",
       "      <th>ordering</th>\n",
       "      <th>nconst</th>\n",
       "      <th>category</th>\n",
       "      <th>job</th>\n",
       "      <th>characters</th>\n",
       "    </tr>\n",
       "  </thead>\n",
       "  <tbody>\n",
       "    <tr>\n",
       "      <th>11</th>\n",
       "      <td>tt0000005</td>\n",
       "      <td>1</td>\n",
       "      <td>nm0443482</td>\n",
       "      <td>actor</td>\n",
       "      <td>\\N</td>\n",
       "      <td>[\"Blacksmith\"]</td>\n",
       "    </tr>\n",
       "    <tr>\n",
       "      <th>12</th>\n",
       "      <td>tt0000005</td>\n",
       "      <td>2</td>\n",
       "      <td>nm0653042</td>\n",
       "      <td>actor</td>\n",
       "      <td>\\N</td>\n",
       "      <td>[\"Assistant\"]</td>\n",
       "    </tr>\n",
       "    <tr>\n",
       "      <th>16</th>\n",
       "      <td>tt0000007</td>\n",
       "      <td>1</td>\n",
       "      <td>nm0179163</td>\n",
       "      <td>actor</td>\n",
       "      <td>\\N</td>\n",
       "      <td>\\N</td>\n",
       "    </tr>\n",
       "    <tr>\n",
       "      <th>17</th>\n",
       "      <td>tt0000007</td>\n",
       "      <td>2</td>\n",
       "      <td>nm0183947</td>\n",
       "      <td>actor</td>\n",
       "      <td>\\N</td>\n",
       "      <td>\\N</td>\n",
       "    </tr>\n",
       "    <tr>\n",
       "      <th>21</th>\n",
       "      <td>tt0000008</td>\n",
       "      <td>1</td>\n",
       "      <td>nm0653028</td>\n",
       "      <td>actor</td>\n",
       "      <td>\\N</td>\n",
       "      <td>[\"Sneezing Man\"]</td>\n",
       "    </tr>\n",
       "    <tr>\n",
       "      <th>...</th>\n",
       "      <td>...</td>\n",
       "      <td>...</td>\n",
       "      <td>...</td>\n",
       "      <td>...</td>\n",
       "      <td>...</td>\n",
       "      <td>...</td>\n",
       "    </tr>\n",
       "    <tr>\n",
       "      <th>36499695</th>\n",
       "      <td>tt9916880</td>\n",
       "      <td>1</td>\n",
       "      <td>nm1483166</td>\n",
       "      <td>actor</td>\n",
       "      <td>\\N</td>\n",
       "      <td>[\"Rude Ralph\",\"Mischievous Mike\",\"Jolly Josh\"]</td>\n",
       "    </tr>\n",
       "    <tr>\n",
       "      <th>36499696</th>\n",
       "      <td>tt9916880</td>\n",
       "      <td>2</td>\n",
       "      <td>nm0254176</td>\n",
       "      <td>actress</td>\n",
       "      <td>\\N</td>\n",
       "      <td>[\"Moody Margaret\"]</td>\n",
       "    </tr>\n",
       "    <tr>\n",
       "      <th>36499697</th>\n",
       "      <td>tt9916880</td>\n",
       "      <td>3</td>\n",
       "      <td>nm0286175</td>\n",
       "      <td>actor</td>\n",
       "      <td>\\N</td>\n",
       "      <td>[\"Dad\",\"Aerobic Al\",\"Nasty Nicola\"]</td>\n",
       "    </tr>\n",
       "    <tr>\n",
       "      <th>36499698</th>\n",
       "      <td>tt9916880</td>\n",
       "      <td>4</td>\n",
       "      <td>nm1052583</td>\n",
       "      <td>actress</td>\n",
       "      <td>\\N</td>\n",
       "      <td>[\"Mum\",\"Tidy Ted\",\"Fang\"]</td>\n",
       "    </tr>\n",
       "    <tr>\n",
       "      <th>36499703</th>\n",
       "      <td>tt9916880</td>\n",
       "      <td>9</td>\n",
       "      <td>nm2676923</td>\n",
       "      <td>actress</td>\n",
       "      <td>\\N</td>\n",
       "      <td>[\"Sour Susan\",\"Goody-Goody Gordon\",\"Singing So...</td>\n",
       "    </tr>\n",
       "  </tbody>\n",
       "</table>\n",
       "<p>14830233 rows × 6 columns</p>\n",
       "</div>"
      ],
      "text/plain": [
       "             tconst  ordering     nconst category job  \\\n",
       "11        tt0000005         1  nm0443482    actor  \\N   \n",
       "12        tt0000005         2  nm0653042    actor  \\N   \n",
       "16        tt0000007         1  nm0179163    actor  \\N   \n",
       "17        tt0000007         2  nm0183947    actor  \\N   \n",
       "21        tt0000008         1  nm0653028    actor  \\N   \n",
       "...             ...       ...        ...      ...  ..   \n",
       "36499695  tt9916880         1  nm1483166    actor  \\N   \n",
       "36499696  tt9916880         2  nm0254176  actress  \\N   \n",
       "36499697  tt9916880         3  nm0286175    actor  \\N   \n",
       "36499698  tt9916880         4  nm1052583  actress  \\N   \n",
       "36499703  tt9916880         9  nm2676923  actress  \\N   \n",
       "\n",
       "                                                 characters  \n",
       "11                                           [\"Blacksmith\"]  \n",
       "12                                            [\"Assistant\"]  \n",
       "16                                                       \\N  \n",
       "17                                                       \\N  \n",
       "21                                         [\"Sneezing Man\"]  \n",
       "...                                                     ...  \n",
       "36499695     [\"Rude Ralph\",\"Mischievous Mike\",\"Jolly Josh\"]  \n",
       "36499696                                 [\"Moody Margaret\"]  \n",
       "36499697                [\"Dad\",\"Aerobic Al\",\"Nasty Nicola\"]  \n",
       "36499698                          [\"Mum\",\"Tidy Ted\",\"Fang\"]  \n",
       "36499703  [\"Sour Susan\",\"Goody-Goody Gordon\",\"Singing So...  \n",
       "\n",
       "[14830233 rows x 6 columns]"
      ]
     },
     "execution_count": 23,
     "metadata": {},
     "output_type": "execute_result"
    }
   ],
   "source": [
    "cast"
   ]
  },
  {
   "cell_type": "code",
   "execution_count": 29,
   "id": "a3d85f69",
   "metadata": {},
   "outputs": [
    {
     "data": {
      "text/plain": [
       "0    [nm0443482, nm0653042]\n",
       "1    [nm0179163, nm0183947]\n",
       "2               [nm0653028]\n",
       "Name: 0, dtype: object"
      ]
     },
     "execution_count": 29,
     "metadata": {},
     "output_type": "execute_result"
    }
   ],
   "source": [
    "to_wtv = pd.DataFrame(cast.groupby(by='tconst').apply(lambda x: [x for x in x['nconst']])).reset_index().iloc[:, 1]\n",
    "to_wtv.head(3)"
   ]
  },
  {
   "cell_type": "code",
   "execution_count": 17,
   "id": "b679e29c",
   "metadata": {},
   "outputs": [
    {
     "data": {
      "text/plain": [
       "0                                     [nm0443482, nm0653042]\n",
       "1                                     [nm0179163, nm0183947]\n",
       "2                                                [nm0653028]\n",
       "3                          [nm0063086, nm0183823, nm1309758]\n",
       "4                                                [nm3692297]\n",
       "                                 ...                        \n",
       "3602195         [nm5519557, nm8825009, nm5262613, nm8690065]\n",
       "3602196         [nm5519557, nm8825009, nm5262613, nm8690065]\n",
       "3602197         [nm5519557, nm8825009, nm5262613, nm8690065]\n",
       "3602198      [nm3394271, nm10538650, nm10538646, nm10538647]\n",
       "3602199    [nm1469295, nm1483166, nm0254176, nm0286175, n...\n",
       "Name: 0, Length: 3602200, dtype: object"
      ]
     },
     "execution_count": 17,
     "metadata": {},
     "output_type": "execute_result"
    }
   ],
   "source": [
    "to_wtv"
   ]
  },
  {
   "cell_type": "code",
   "execution_count": 7,
   "id": "d09abed8",
   "metadata": {},
   "outputs": [
    {
     "data": {
      "text/plain": [
       "4.116993226361668"
      ]
     },
     "execution_count": 7,
     "metadata": {},
     "output_type": "execute_result"
    }
   ],
   "source": [
    "sum([len(to_wtv[i]) for i in range(0,len(to_wtv))]) / len(to_wtv)"
   ]
  },
  {
   "cell_type": "code",
   "execution_count": 8,
   "id": "74413750",
   "metadata": {
    "tags": []
   },
   "outputs": [],
   "source": [
    "with open('model/to_wtv.pk','wb+') as f:\n",
    "    pk.dump(to_wtv,f)"
   ]
  },
  {
   "cell_type": "code",
   "execution_count": 16,
   "id": "ca0218e3",
   "metadata": {},
   "outputs": [],
   "source": [
    "with open('model/to_wtv.pk','rb') as f:\n",
    "    to_wtv = pk.load(f)"
   ]
  },
  {
   "cell_type": "markdown",
   "id": "855fffd9",
   "metadata": {},
   "source": [
    "### Word2Vec\n",
    "先訓練基本模型作為base，並稍微檢視訓練成果"
   ]
  },
  {
   "cell_type": "code",
   "execution_count": null,
   "id": "2bed440c",
   "metadata": {},
   "outputs": [],
   "source": [
    "wtv = Word2Vec(window=10, min_count=5)\n",
    "wtv.build_vocab(to_wtv)\n",
    "wtv.train(to_wtv, total_words=wtv.corpus_total_words, epochs=10)\n",
    "wtv.save(\"model/word2vec_model\")"
   ]
  },
  {
   "cell_type": "code",
   "execution_count": null,
   "id": "0b86b8c8",
   "metadata": {},
   "outputs": [],
   "source": [
    "wtv = Word2Vec.load(\"model/word2vec_model\")"
   ]
  },
  {
   "cell_type": "code",
   "execution_count": 54,
   "id": "d80106fb",
   "metadata": {},
   "outputs": [],
   "source": [
    "from IPython.display import HTML, display\n",
    "from bs4 import BeautifulSoup\n",
    "import requests\n",
    "\n",
    "def get_name(id):\n",
    "    response = requests.get(f'https://www.imdb.com/name/{id}/')\n",
    "    soup = BeautifulSoup(response.content)\n",
    "    return soup.select('.header .itemprop')[0].text\n",
    "\n",
    "def get_image(id):\n",
    "    response = requests.get(f'https://www.imdb.com/name/{id}/')\n",
    "    soup = BeautifulSoup(response.content)\n",
    "    candidates = soup.select('#name-poster')\n",
    "    return candidates[0].attrs['src'] if candidates else 'https://m.media-amazon.com/images/G/01/imdb/images/nopicture/medium/name-2135195744._CB466677935_.png'\n",
    "\n",
    "def render_person(id):\n",
    "    name = get_name(id)\n",
    "    picture = get_image(id)\n",
    "    return f\"\"\"\n",
    "    <div style=\"width: 150px; text-align: center\">\n",
    "        <h4 style='margin-top: -5px'>{name}</h4>\n",
    "        <div style='font-size:75%; margin-bottom: 5px'>{id}</div>\n",
    "        <a href=\"https://www.imdb.com/name/{id}\" target=\"_blank\">\n",
    "            <img style=\"width: 100px; display: block; margin-left: auto; margin-right: auto;\" src=\"{picture}\"/>\n",
    "        </a>\n",
    "    </div>\n",
    "    \"\"\"\n",
    "\n",
    "def show_similars(model,id, n=10):\n",
    "    if id in model.wv: \n",
    "        display(HTML(render_person(id)))\n",
    "    renders = []\n",
    "    for similar_id, score in model.wv.most_similar(id, topn=n):\n",
    "        renders.append(render_person(similar_id))\n",
    "        \n",
    "    carousel = ''.join(\n",
    "        [\n",
    "            f'<div style=\"margin-left: 10px; float: left\">{p}</div>' \n",
    "            for p in renders\n",
    "        ]\n",
    "        )\n",
    "    display(HTML(f'<div style=\"width: 1800px\">{carousel}</div>'))"
   ]
  },
  {
   "cell_type": "code",
   "execution_count": null,
   "id": "be598193",
   "metadata": {},
   "outputs": [
    {
     "data": {
      "text/html": [
       "\n",
       "    <div style=\"width: 150px; text-align: center\">\n",
       "        <h4 style='margin-top: -5px'>Kaley Cuoco</h4>\n",
       "        <div style='font-size:75%; margin-bottom: 5px'>nm0192505</div>\n",
       "        <a href=\"https://www.imdb.com/name/nm0192505\" target=\"_blank\">\n",
       "            <img style=\"width: 100px; display: block; margin-left: auto; margin-right: auto;\" src=\"https://m.media-amazon.com/images/M/MV5BMjYyYmNlZTMtM2RlZC00YTlhLTk5YzItZTQ4OTA3Y2FkNzFlXkEyXkFqcGdeQXVyOTAzMjY1OTY@._V1_UY317_CR12,0,214,317_AL_.jpg\"/>\n",
       "        </a>\n",
       "    </div>\n",
       "    "
      ],
      "text/plain": [
       "<IPython.core.display.HTML object>"
      ]
     },
     "metadata": {},
     "output_type": "display_data"
    },
    {
     "data": {
      "text/html": [
       "<div style=\"width: 1800px\"><div style=\"margin-left: 10px; float: left\">\n",
       "    <div style=\"width: 150px; text-align: center\">\n",
       "        <h4 style='margin-top: -5px'>Monica Ward</h4>\n",
       "        <div style='font-size:75%; margin-bottom: 5px'>nm2854860</div>\n",
       "        <a href=\"https://www.imdb.com/name/nm2854860\" target=\"_blank\">\n",
       "            <img style=\"width: 100px; display: block; margin-left: auto; margin-right: auto;\" src=\"https://m.media-amazon.com/images/G/01/imdb/images/nopicture/medium/name-2135195744._CB466677935_.png\"/>\n",
       "        </a>\n",
       "    </div>\n",
       "    </div><div style=\"margin-left: 10px; float: left\">\n",
       "    <div style=\"width: 150px; text-align: center\">\n",
       "        <h4 style='margin-top: -5px'>Mark Hauser</h4>\n",
       "        <div style='font-size:75%; margin-bottom: 5px'>nm0369545</div>\n",
       "        <a href=\"https://www.imdb.com/name/nm0369545\" target=\"_blank\">\n",
       "            <img style=\"width: 100px; display: block; margin-left: auto; margin-right: auto;\" src=\"https://m.media-amazon.com/images/G/01/imdb/images/nopicture/medium/name-2135195744._CB466677935_.png\"/>\n",
       "        </a>\n",
       "    </div>\n",
       "    </div><div style=\"margin-left: 10px; float: left\">\n",
       "    <div style=\"width: 150px; text-align: center\">\n",
       "        <h4 style='margin-top: -5px'>Annie Bovaird</h4>\n",
       "        <div style='font-size:75%; margin-bottom: 5px'>nm1689435</div>\n",
       "        <a href=\"https://www.imdb.com/name/nm1689435\" target=\"_blank\">\n",
       "            <img style=\"width: 100px; display: block; margin-left: auto; margin-right: auto;\" src=\"https://m.media-amazon.com/images/M/MV5BZTUzYzI1YjUtZjc2ZS00MTk0LThiZjAtOTZhMGYwN2U5ZDJjXkEyXkFqcGdeQXVyMTAwMzUyMzUy._V1_UY317_CR31,0,214,317_AL_.jpg\"/>\n",
       "        </a>\n",
       "    </div>\n",
       "    </div><div style=\"margin-left: 10px; float: left\">\n",
       "    <div style=\"width: 150px; text-align: center\">\n",
       "        <h4 style='margin-top: -5px'>Holly Gauthier-Frankel</h4>\n",
       "        <div style='font-size:75%; margin-bottom: 5px'>nm0291217</div>\n",
       "        <a href=\"https://www.imdb.com/name/nm0291217\" target=\"_blank\">\n",
       "            <img style=\"width: 100px; display: block; margin-left: auto; margin-right: auto;\" src=\"https://m.media-amazon.com/images/M/MV5BMzBiODIxMWUtZGRmOC00OTllLWE0NjYtNTQwMTlmZTZmNzA0XkEyXkFqcGdeQXVyMTMyNjkxMzI@._V1_UY317_CR1,0,214,317_AL_.jpg\"/>\n",
       "        </a>\n",
       "    </div>\n",
       "    </div><div style=\"margin-left: 10px; float: left\">\n",
       "    <div style=\"width: 150px; text-align: center\">\n",
       "        <h4 style='margin-top: -5px'>Charlie Schlatter</h4>\n",
       "        <div style='font-size:75%; margin-bottom: 5px'>nm0772116</div>\n",
       "        <a href=\"https://www.imdb.com/name/nm0772116\" target=\"_blank\">\n",
       "            <img style=\"width: 100px; display: block; margin-left: auto; margin-right: auto;\" src=\"https://m.media-amazon.com/images/M/MV5BYWMzZWVjMjctZDE4OS00NTA3LWFjZDAtMjA0OGEzNWVjYmViXkEyXkFqcGdeQXVyMTQxNzMzNDI@._V1_UY317_CR175,0,214,317_AL_.jpg\"/>\n",
       "        </a>\n",
       "    </div>\n",
       "    </div><div style=\"margin-left: 10px; float: left\">\n",
       "    <div style=\"width: 150px; text-align: center\">\n",
       "        <h4 style='margin-top: -5px'>Saffron Henderson</h4>\n",
       "        <div style='font-size:75%; margin-bottom: 5px'>nm0376588</div>\n",
       "        <a href=\"https://www.imdb.com/name/nm0376588\" target=\"_blank\">\n",
       "            <img style=\"width: 100px; display: block; margin-left: auto; margin-right: auto;\" src=\"https://m.media-amazon.com/images/M/MV5BN2EyMDIyYTUtNTA5My00MmVkLTk5NDktYTU0NDA4NWFiMTgzXkEyXkFqcGdeQXVyMzM4MjM0Nzg@._V1_UY317_CR2,0,214,317_AL_.jpg\"/>\n",
       "        </a>\n",
       "    </div>\n",
       "    </div><div style=\"margin-left: 10px; float: left\">\n",
       "    <div style=\"width: 150px; text-align: center\">\n",
       "        <h4 style='margin-top: -5px'>Pauline Little</h4>\n",
       "        <div style='font-size:75%; margin-bottom: 5px'>nm0514643</div>\n",
       "        <a href=\"https://www.imdb.com/name/nm0514643\" target=\"_blank\">\n",
       "            <img style=\"width: 100px; display: block; margin-left: auto; margin-right: auto;\" src=\"https://m.media-amazon.com/images/G/01/imdb/images/nopicture/medium/name-2135195744._CB466677935_.png\"/>\n",
       "        </a>\n",
       "    </div>\n",
       "    </div><div style=\"margin-left: 10px; float: left\">\n",
       "    <div style=\"width: 150px; text-align: center\">\n",
       "        <h4 style='margin-top: -5px'>Fulvio Cecere</h4>\n",
       "        <div style='font-size:75%; margin-bottom: 5px'>nm0147661</div>\n",
       "        <a href=\"https://www.imdb.com/name/nm0147661\" target=\"_blank\">\n",
       "            <img style=\"width: 100px; display: block; margin-left: auto; margin-right: auto;\" src=\"https://m.media-amazon.com/images/M/MV5BZGIyNTA5YmUtM2RiMS00NWUzLTliZmItN2Y4NGMyZmRlZmYxXkEyXkFqcGdeQXVyMDIyNDU1Mw@@._V1_UY317_CR130,0,214,317_AL_.jpg\"/>\n",
       "        </a>\n",
       "    </div>\n",
       "    </div><div style=\"margin-left: 10px; float: left\">\n",
       "    <div style=\"width: 150px; text-align: center\">\n",
       "        <h4 style='margin-top: -5px'>Tia Mowry-Hardrict</h4>\n",
       "        <div style='font-size:75%; margin-bottom: 5px'>nm0610298</div>\n",
       "        <a href=\"https://www.imdb.com/name/nm0610298\" target=\"_blank\">\n",
       "            <img style=\"width: 100px; display: block; margin-left: auto; margin-right: auto;\" src=\"https://m.media-amazon.com/images/M/MV5BOWNmZmEwNjItMzI2Mi00YjZiLTljODctZWViMDNkMTE5ZmFmXkEyXkFqcGdeQXVyMzg1MjQwNA@@._V1_UY317_CR17,0,214,317_AL_.jpg\"/>\n",
       "        </a>\n",
       "    </div>\n",
       "    </div><div style=\"margin-left: 10px; float: left\">\n",
       "    <div style=\"width: 150px; text-align: center\">\n",
       "        <h4 style='margin-top: -5px'>Montana Jordan</h4>\n",
       "        <div style='font-size:75%; margin-bottom: 5px'>nm7718664</div>\n",
       "        <a href=\"https://www.imdb.com/name/nm7718664\" target=\"_blank\">\n",
       "            <img style=\"width: 100px; display: block; margin-left: auto; margin-right: auto;\" src=\"https://m.media-amazon.com/images/M/MV5BZDg1ZjNlYzctZTg3NC00NmQxLWIzNDAtNzNmMjM2ZGM5OTc5XkEyXkFqcGdeQXVyMTExNDQ2MTI@._V1_UY317_CR3,0,214,317_AL_.jpg\"/>\n",
       "        </a>\n",
       "    </div>\n",
       "    </div></div>"
      ],
      "text/plain": [
       "<IPython.core.display.HTML object>"
      ]
     },
     "metadata": {},
     "output_type": "display_data"
    }
   ],
   "source": [
    "show_similars(wtv,'nm0192505')"
   ]
  },
  {
   "cell_type": "code",
   "execution_count": null,
   "id": "247f3d27",
   "metadata": {},
   "outputs": [
    {
     "data": {
      "text/html": [
       "\n",
       "    <div style=\"width: 150px; text-align: center\">\n",
       "        <h4 style='margin-top: -5px'>Dwayne Johnson</h4>\n",
       "        <div style='font-size:75%; margin-bottom: 5px'>nm0425005</div>\n",
       "        <a href=\"https://www.imdb.com/name/nm0425005\" target=\"_blank\">\n",
       "            <img style=\"width: 100px; display: block; margin-left: auto; margin-right: auto;\" src=\"https://m.media-amazon.com/images/M/MV5BMTkyNDQ3NzAxM15BMl5BanBnXkFtZTgwODIwMTQ0NTE@._V1_UX214_CR0,0,214,317_AL_.jpg\"/>\n",
       "        </a>\n",
       "    </div>\n",
       "    "
      ],
      "text/plain": [
       "<IPython.core.display.HTML object>"
      ]
     },
     "metadata": {},
     "output_type": "display_data"
    },
    {
     "data": {
      "text/html": [
       "<div style=\"width: 1800px\"><div style=\"margin-left: 10px; float: left\">\n",
       "    <div style=\"width: 150px; text-align: center\">\n",
       "        <h4 style='margin-top: -5px'>John David Washington</h4>\n",
       "        <div style='font-size:75%; margin-bottom: 5px'>nm0913475</div>\n",
       "        <a href=\"https://www.imdb.com/name/nm0913475\" target=\"_blank\">\n",
       "            <img style=\"width: 100px; display: block; margin-left: auto; margin-right: auto;\" src=\"https://m.media-amazon.com/images/M/MV5BOTY4NDcyNDM5OF5BMl5BanBnXkFtZTgwMjk4Mzk0NTM@._V1_UY317_CR5,0,214,317_AL_.jpg\"/>\n",
       "        </a>\n",
       "    </div>\n",
       "    </div><div style=\"margin-left: 10px; float: left\">\n",
       "    <div style=\"width: 150px; text-align: center\">\n",
       "        <h4 style='margin-top: -5px'>Paul Levesque</h4>\n",
       "        <div style='font-size:75%; margin-bottom: 5px'>nm0505391</div>\n",
       "        <a href=\"https://www.imdb.com/name/nm0505391\" target=\"_blank\">\n",
       "            <img style=\"width: 100px; display: block; margin-left: auto; margin-right: auto;\" src=\"https://m.media-amazon.com/images/M/MV5BMTQyMDQ3MzA4OF5BMl5BanBnXkFtZTcwOTI0OTEyOA@@._V1_UY317_CR24,0,214,317_AL_.jpg\"/>\n",
       "        </a>\n",
       "    </div>\n",
       "    </div><div style=\"margin-left: 10px; float: left\">\n",
       "    <div style=\"width: 150px; text-align: center\">\n",
       "        <h4 style='margin-top: -5px'>Mick Foley</h4>\n",
       "        <div style='font-size:75%; margin-bottom: 5px'>nm0284201</div>\n",
       "        <a href=\"https://www.imdb.com/name/nm0284201\" target=\"_blank\">\n",
       "            <img style=\"width: 100px; display: block; margin-left: auto; margin-right: auto;\" src=\"https://m.media-amazon.com/images/M/MV5BMTc0NzE2MzExMF5BMl5BanBnXkFtZTgwNzg2MDk4MDE@._V1_UX214_CR0,0,214,317_AL_.jpg\"/>\n",
       "        </a>\n",
       "    </div>\n",
       "    </div><div style=\"margin-left: 10px; float: left\">\n",
       "    <div style=\"width: 150px; text-align: center\">\n",
       "        <h4 style='margin-top: -5px'>Glenn Jacobs</h4>\n",
       "        <div style='font-size:75%; margin-bottom: 5px'>nm0414417</div>\n",
       "        <a href=\"https://www.imdb.com/name/nm0414417\" target=\"_blank\">\n",
       "            <img style=\"width: 100px; display: block; margin-left: auto; margin-right: auto;\" src=\"https://m.media-amazon.com/images/M/MV5BMTY1NDcyMDY2Nl5BMl5BanBnXkFtZTcwNjU5MTY4NA@@._V1_UY317_CR86,0,214,317_AL_.jpg\"/>\n",
       "        </a>\n",
       "    </div>\n",
       "    </div><div style=\"margin-left: 10px; float: left\">\n",
       "    <div style=\"width: 150px; text-align: center\">\n",
       "        <h4 style='margin-top: -5px'>Dennis Knight</h4>\n",
       "        <div style='font-size:75%; margin-bottom: 5px'>nm0460872</div>\n",
       "        <a href=\"https://www.imdb.com/name/nm0460872\" target=\"_blank\">\n",
       "            <img style=\"width: 100px; display: block; margin-left: auto; margin-right: auto;\" src=\"https://m.media-amazon.com/images/M/MV5BY2JmMzZmZTItNjAxZS00ZjIwLTk0MjEtODE5OWJiZmM5NTI0XkEyXkFqcGdeQXVyNDUzOTQ5MjY@._V1_UY317_CR175,0,214,317_AL_.jpg\"/>\n",
       "        </a>\n",
       "    </div>\n",
       "    </div><div style=\"margin-left: 10px; float: left\">\n",
       "    <div style=\"width: 150px; text-align: center\">\n",
       "        <h4 style='margin-top: -5px'>Ken Shamrock</h4>\n",
       "        <div style='font-size:75%; margin-bottom: 5px'>nm0787900</div>\n",
       "        <a href=\"https://www.imdb.com/name/nm0787900\" target=\"_blank\">\n",
       "            <img style=\"width: 100px; display: block; margin-left: auto; margin-right: auto;\" src=\"https://m.media-amazon.com/images/M/MV5BNDg5ZjJlMWYtYTAyNC00NjY0LThhNDQtOTEwMGE3ZTAzZjZmXkEyXkFqcGdeQXVyNDUzOTQ5MjY@._V1_UX214_CR0,0,214,317_AL_.jpg\"/>\n",
       "        </a>\n",
       "    </div>\n",
       "    </div><div style=\"margin-left: 10px; float: left\">\n",
       "    <div style=\"width: 150px; text-align: center\">\n",
       "        <h4 style='margin-top: -5px'>Paul Wight</h4>\n",
       "        <div style='font-size:75%; margin-bottom: 5px'>nm0927833</div>\n",
       "        <a href=\"https://www.imdb.com/name/nm0927833\" target=\"_blank\">\n",
       "            <img style=\"width: 100px; display: block; margin-left: auto; margin-right: auto;\" src=\"https://m.media-amazon.com/images/M/MV5BMTQ5NjE1OTY4NF5BMl5BanBnXkFtZTcwMjUxMDMxNw@@._V1_UY317_CR6,0,214,317_AL_.jpg\"/>\n",
       "        </a>\n",
       "    </div>\n",
       "    </div><div style=\"margin-left: 10px; float: left\">\n",
       "    <div style=\"width: 150px; text-align: center\">\n",
       "        <h4 style='margin-top: -5px'>Donovan W. Carter</h4>\n",
       "        <div style='font-size:75%; margin-bottom: 5px'>nm6041749</div>\n",
       "        <a href=\"https://www.imdb.com/name/nm6041749\" target=\"_blank\">\n",
       "            <img style=\"width: 100px; display: block; margin-left: auto; margin-right: auto;\" src=\"https://m.media-amazon.com/images/M/MV5BMTc2NTY5MDU0MF5BMl5BanBnXkFtZTgwMTU2NzA4OTE@._V1_UY317_CR126,0,214,317_AL_.jpg\"/>\n",
       "        </a>\n",
       "    </div>\n",
       "    </div><div style=\"margin-left: 10px; float: left\">\n",
       "    <div style=\"width: 150px; text-align: center\">\n",
       "        <h4 style='margin-top: -5px'>Ron Simmons</h4>\n",
       "        <div style='font-size:75%; margin-bottom: 5px'>nm0799881</div>\n",
       "        <a href=\"https://www.imdb.com/name/nm0799881\" target=\"_blank\">\n",
       "            <img style=\"width: 100px; display: block; margin-left: auto; margin-right: auto;\" src=\"https://m.media-amazon.com/images/M/MV5BOGFhMmYxZmQtMjg4YS00OTkwLThiZGQtODU0NTEzZDJmNjk0XkEyXkFqcGdeQXVyNDUzOTQ5MjY@._V1_UY317_CR27,0,214,317_AL_.jpg\"/>\n",
       "        </a>\n",
       "    </div>\n",
       "    </div><div style=\"margin-left: 10px; float: left\">\n",
       "    <div style=\"width: 150px; text-align: center\">\n",
       "        <h4 style='margin-top: -5px'>Mark Wahlberg</h4>\n",
       "        <div style='font-size:75%; margin-bottom: 5px'>nm0000242</div>\n",
       "        <a href=\"https://www.imdb.com/name/nm0000242\" target=\"_blank\">\n",
       "            <img style=\"width: 100px; display: block; margin-left: auto; margin-right: auto;\" src=\"https://m.media-amazon.com/images/M/MV5BMTU0MTQ4OTMyMV5BMl5BanBnXkFtZTcwMTQxOTY1NA@@._V1_UY317_CR14,0,214,317_AL_.jpg\"/>\n",
       "        </a>\n",
       "    </div>\n",
       "    </div></div>"
      ],
      "text/plain": [
       "<IPython.core.display.HTML object>"
      ]
     },
     "metadata": {},
     "output_type": "display_data"
    }
   ],
   "source": [
    "show_similars(wtv,'nm0425005')"
   ]
  },
  {
   "cell_type": "code",
   "execution_count": null,
   "id": "5fa377f0",
   "metadata": {},
   "outputs": [
    {
     "data": {
      "text/html": [
       "\n",
       "    <div style=\"width: 150px; text-align: center\">\n",
       "        <h4 style='margin-top: -5px'>Kevin Hart</h4>\n",
       "        <div style='font-size:75%; margin-bottom: 5px'>nm0366389</div>\n",
       "        <a href=\"https://www.imdb.com/name/nm0366389\" target=\"_blank\">\n",
       "            <img style=\"width: 100px; display: block; margin-left: auto; margin-right: auto;\" src=\"https://m.media-amazon.com/images/M/MV5BMTY4OTAxMjkxN15BMl5BanBnXkFtZTgwODg5MzYyMTE@._V1_UX214_CR0,0,214,317_AL_.jpg\"/>\n",
       "        </a>\n",
       "    </div>\n",
       "    "
      ],
      "text/plain": [
       "<IPython.core.display.HTML object>"
      ]
     },
     "metadata": {},
     "output_type": "display_data"
    },
    {
     "data": {
      "text/html": [
       "<div style=\"width: 1800px\"><div style=\"margin-left: 10px; float: left\">\n",
       "    <div style=\"width: 150px; text-align: center\">\n",
       "        <h4 style='margin-top: -5px'>Ed Helms</h4>\n",
       "        <div style='font-size:75%; margin-bottom: 5px'>nm1159180</div>\n",
       "        <a href=\"https://www.imdb.com/name/nm1159180\" target=\"_blank\">\n",
       "            <img style=\"width: 100px; display: block; margin-left: auto; margin-right: auto;\" src=\"https://m.media-amazon.com/images/M/MV5BMTk2MDQwODEwNV5BMl5BanBnXkFtZTcwNjc4MTY0NA@@._V1_UY317_CR17,0,214,317_AL_.jpg\"/>\n",
       "        </a>\n",
       "    </div>\n",
       "    </div><div style=\"margin-left: 10px; float: left\">\n",
       "    <div style=\"width: 150px; text-align: center\">\n",
       "        <h4 style='margin-top: -5px'>J. Cole</h4>\n",
       "        <div style='font-size:75%; margin-bottom: 5px'>nm3359577</div>\n",
       "        <a href=\"https://www.imdb.com/name/nm3359577\" target=\"_blank\">\n",
       "            <img style=\"width: 100px; display: block; margin-left: auto; margin-right: auto;\" src=\"https://m.media-amazon.com/images/M/MV5BNzFmMmE2ZjgtMWE3Yi00NGJjLWE1NGUtNzkzYjY4M2U3ODIyXkEyXkFqcGdeQXVyNTI5NjIyMw@@._V1_UY317_CR131,0,214,317_AL_.jpg\"/>\n",
       "        </a>\n",
       "    </div>\n",
       "    </div><div style=\"margin-left: 10px; float: left\">\n",
       "    <div style=\"width: 150px; text-align: center\">\n",
       "        <h4 style='margin-top: -5px'>Mike Epps</h4>\n",
       "        <div style='font-size:75%; margin-bottom: 5px'>nm0258402</div>\n",
       "        <a href=\"https://www.imdb.com/name/nm0258402\" target=\"_blank\">\n",
       "            <img style=\"width: 100px; display: block; margin-left: auto; margin-right: auto;\" src=\"https://m.media-amazon.com/images/M/MV5BMTY5MjEzOTQyNF5BMl5BanBnXkFtZTYwNjM1MjU0._V1_UY317_CR3,0,214,317_AL_.jpg\"/>\n",
       "        </a>\n",
       "    </div>\n",
       "    </div><div style=\"margin-left: 10px; float: left\">\n",
       "    <div style=\"width: 150px; text-align: center\">\n",
       "        <h4 style='margin-top: -5px'>Jason Segel</h4>\n",
       "        <div style='font-size:75%; margin-bottom: 5px'>nm0781981</div>\n",
       "        <a href=\"https://www.imdb.com/name/nm0781981\" target=\"_blank\">\n",
       "            <img style=\"width: 100px; display: block; margin-left: auto; margin-right: auto;\" src=\"https://m.media-amazon.com/images/M/MV5BMTUwNzcxNzM1Nl5BMl5BanBnXkFtZTgwNzA5NzU4MjE@._V1_UY317_CR12,0,214,317_AL_.jpg\"/>\n",
       "        </a>\n",
       "    </div>\n",
       "    </div><div style=\"margin-left: 10px; float: left\">\n",
       "    <div style=\"width: 150px; text-align: center\">\n",
       "        <h4 style='margin-top: -5px'>January Jones</h4>\n",
       "        <div style='font-size:75%; margin-bottom: 5px'>nm0005064</div>\n",
       "        <a href=\"https://www.imdb.com/name/nm0005064\" target=\"_blank\">\n",
       "            <img style=\"width: 100px; display: block; margin-left: auto; margin-right: auto;\" src=\"https://m.media-amazon.com/images/M/MV5BMTgyODE1Mjg4NF5BMl5BanBnXkFtZTcwMTE5MjQ1Nw@@._V1_UY317_CR21,0,214,317_AL_.jpg\"/>\n",
       "        </a>\n",
       "    </div>\n",
       "    </div><div style=\"margin-left: 10px; float: left\">\n",
       "    <div style=\"width: 150px; text-align: center\">\n",
       "        <h4 style='margin-top: -5px'>Ye</h4>\n",
       "        <div style='font-size:75%; margin-bottom: 5px'>nm1577190</div>\n",
       "        <a href=\"https://www.imdb.com/name/nm1577190\" target=\"_blank\">\n",
       "            <img style=\"width: 100px; display: block; margin-left: auto; margin-right: auto;\" src=\"https://m.media-amazon.com/images/M/MV5BZWFjYzhmNzQtZGZiZS00NDY3LTkzMTAtN2U3YjkyZmI5N2U5XkEyXkFqcGdeQXVyNzg5MzIyOA@@._V1_UY317_CR12,0,214,317_AL_.jpg\"/>\n",
       "        </a>\n",
       "    </div>\n",
       "    </div><div style=\"margin-left: 10px; float: left\">\n",
       "    <div style=\"width: 150px; text-align: center\">\n",
       "        <h4 style='margin-top: -5px'>La La Anthony</h4>\n",
       "        <div style='font-size:75%; margin-bottom: 5px'>nm1043164</div>\n",
       "        <a href=\"https://www.imdb.com/name/nm1043164\" target=\"_blank\">\n",
       "            <img style=\"width: 100px; display: block; margin-left: auto; margin-right: auto;\" src=\"https://m.media-amazon.com/images/M/MV5BNTA1MDA3NTUxM15BMl5BanBnXkFtZTcwMzU5Njc4OQ@@._V1_UY317_CR6,0,214,317_AL_.jpg\"/>\n",
       "        </a>\n",
       "    </div>\n",
       "    </div><div style=\"margin-left: 10px; float: left\">\n",
       "    <div style=\"width: 150px; text-align: center\">\n",
       "        <h4 style='margin-top: -5px'>Betty Gilpin</h4>\n",
       "        <div style='font-size:75%; margin-bottom: 5px'>nm2365811</div>\n",
       "        <a href=\"https://www.imdb.com/name/nm2365811\" target=\"_blank\">\n",
       "            <img style=\"width: 100px; display: block; margin-left: auto; margin-right: auto;\" src=\"https://m.media-amazon.com/images/M/MV5BNWU2ZGU3M2EtMjRhNy00NjdjLWFlNTUtMjU2NTY2ODhlOWJkXkEyXkFqcGdeQXVyMDM2NDM2MQ@@._V1_UX214_CR0,0,214,317_AL_.jpg\"/>\n",
       "        </a>\n",
       "    </div>\n",
       "    </div><div style=\"margin-left: 10px; float: left\">\n",
       "    <div style=\"width: 150px; text-align: center\">\n",
       "        <h4 style='margin-top: -5px'>Gabrielle Union</h4>\n",
       "        <div style='font-size:75%; margin-bottom: 5px'>nm0005517</div>\n",
       "        <a href=\"https://www.imdb.com/name/nm0005517\" target=\"_blank\">\n",
       "            <img style=\"width: 100px; display: block; margin-left: auto; margin-right: auto;\" src=\"https://m.media-amazon.com/images/M/MV5BMTkwNjUzMDM2Nl5BMl5BanBnXkFtZTcwNDgyMDY4Mg@@._V1_UY317_CR27,0,214,317_AL_.jpg\"/>\n",
       "        </a>\n",
       "    </div>\n",
       "    </div><div style=\"margin-left: 10px; float: left\">\n",
       "    <div style=\"width: 150px; text-align: center\">\n",
       "        <h4 style='margin-top: -5px'>Jeffrey Ross</h4>\n",
       "        <div style='font-size:75%; margin-bottom: 5px'>nm0743501</div>\n",
       "        <a href=\"https://www.imdb.com/name/nm0743501\" target=\"_blank\">\n",
       "            <img style=\"width: 100px; display: block; margin-left: auto; margin-right: auto;\" src=\"https://m.media-amazon.com/images/M/MV5BMjIxMTUyMjA4Nl5BMl5BanBnXkFtZTcwOTYzMTY0OQ@@._V1_UY317_CR131,0,214,317_AL_.jpg\"/>\n",
       "        </a>\n",
       "    </div>\n",
       "    </div></div>"
      ],
      "text/plain": [
       "<IPython.core.display.HTML object>"
      ]
     },
     "metadata": {},
     "output_type": "display_data"
    }
   ],
   "source": [
    "show_similars(wtv,'nm0366389')"
   ]
  },
  {
   "cell_type": "code",
   "execution_count": null,
   "id": "584d8a49",
   "metadata": {},
   "outputs": [
    {
     "data": {
      "text/html": [
       "\n",
       "    <div style=\"width: 150px; text-align: center\">\n",
       "        <h4 style='margin-top: -5px'>Chris Pratt</h4>\n",
       "        <div style='font-size:75%; margin-bottom: 5px'>nm0695435</div>\n",
       "        <a href=\"https://www.imdb.com/name/nm0695435\" target=\"_blank\">\n",
       "            <img style=\"width: 100px; display: block; margin-left: auto; margin-right: auto;\" src=\"https://m.media-amazon.com/images/M/MV5BNDU1NjU0MzA5NF5BMl5BanBnXkFtZTgwNTg5OTY2MjI@._V1_UY317_CR10,0,214,317_AL_.jpg\"/>\n",
       "        </a>\n",
       "    </div>\n",
       "    "
      ],
      "text/plain": [
       "<IPython.core.display.HTML object>"
      ]
     },
     "metadata": {},
     "output_type": "display_data"
    },
    {
     "data": {
      "text/html": [
       "<div style=\"width: 1800px\"><div style=\"margin-left: 10px; float: left\">\n",
       "    <div style=\"width: 150px; text-align: center\">\n",
       "        <h4 style='margin-top: -5px'>Nick Offerman</h4>\n",
       "        <div style='font-size:75%; margin-bottom: 5px'>nm0644406</div>\n",
       "        <a href=\"https://www.imdb.com/name/nm0644406\" target=\"_blank\">\n",
       "            <img style=\"width: 100px; display: block; margin-left: auto; margin-right: auto;\" src=\"https://m.media-amazon.com/images/M/MV5BMTYzMjY2ODkxMV5BMl5BanBnXkFtZTgwMjQxMDA5MTE@._V1_UX214_CR0,0,214,317_AL_.jpg\"/>\n",
       "        </a>\n",
       "    </div>\n",
       "    </div><div style=\"margin-left: 10px; float: left\">\n",
       "    <div style=\"width: 150px; text-align: center\">\n",
       "        <h4 style='margin-top: -5px'>Aubrey Plaza</h4>\n",
       "        <div style='font-size:75%; margin-bottom: 5px'>nm2201555</div>\n",
       "        <a href=\"https://www.imdb.com/name/nm2201555\" target=\"_blank\">\n",
       "            <img style=\"width: 100px; display: block; margin-left: auto; margin-right: auto;\" src=\"https://m.media-amazon.com/images/M/MV5BMjIyMzYyMjQ5OV5BMl5BanBnXkFtZTcwMTA0MTkxNw@@._V1_UY317_CR3,0,214,317_AL_.jpg\"/>\n",
       "        </a>\n",
       "    </div>\n",
       "    </div><div style=\"margin-left: 10px; float: left\">\n",
       "    <div style=\"width: 150px; text-align: center\">\n",
       "        <h4 style='margin-top: -5px'>Retta</h4>\n",
       "        <div style='font-size:75%; margin-bottom: 5px'>nm0802876</div>\n",
       "        <a href=\"https://www.imdb.com/name/nm0802876\" target=\"_blank\">\n",
       "            <img style=\"width: 100px; display: block; margin-left: auto; margin-right: auto;\" src=\"https://m.media-amazon.com/images/M/MV5BMjQyMTQ2MjQ5Ml5BMl5BanBnXkFtZTgwNzY3MDAxNzE@._V1_UX214_CR0,0,214,317_AL_.jpg\"/>\n",
       "        </a>\n",
       "    </div>\n",
       "    </div><div style=\"margin-left: 10px; float: left\">\n",
       "    <div style=\"width: 150px; text-align: center\">\n",
       "        <h4 style='margin-top: -5px'>Jason Segel</h4>\n",
       "        <div style='font-size:75%; margin-bottom: 5px'>nm0781981</div>\n",
       "        <a href=\"https://www.imdb.com/name/nm0781981\" target=\"_blank\">\n",
       "            <img style=\"width: 100px; display: block; margin-left: auto; margin-right: auto;\" src=\"https://m.media-amazon.com/images/M/MV5BMTUwNzcxNzM1Nl5BMl5BanBnXkFtZTgwNzA5NzU4MjE@._V1_UY317_CR12,0,214,317_AL_.jpg\"/>\n",
       "        </a>\n",
       "    </div>\n",
       "    </div><div style=\"margin-left: 10px; float: left\">\n",
       "    <div style=\"width: 150px; text-align: center\">\n",
       "        <h4 style='margin-top: -5px'>Charlie Day</h4>\n",
       "        <div style='font-size:75%; margin-bottom: 5px'>nm0206359</div>\n",
       "        <a href=\"https://www.imdb.com/name/nm0206359\" target=\"_blank\">\n",
       "            <img style=\"width: 100px; display: block; margin-left: auto; margin-right: auto;\" src=\"https://m.media-amazon.com/images/M/MV5BYjI2YWE1ODUtNTFjNy00MDgyLWJmNzgtNjBiZWE1NDY1YzFhXkEyXkFqcGdeQXVyODgwOTcwMDY@._V1_UY317_CR11,0,214,317_AL_.jpg\"/>\n",
       "        </a>\n",
       "    </div>\n",
       "    </div><div style=\"margin-left: 10px; float: left\">\n",
       "    <div style=\"width: 150px; text-align: center\">\n",
       "        <h4 style='margin-top: -5px'>Jack Reynor</h4>\n",
       "        <div style='font-size:75%; margin-bottom: 5px'>nm2930503</div>\n",
       "        <a href=\"https://www.imdb.com/name/nm2930503\" target=\"_blank\">\n",
       "            <img style=\"width: 100px; display: block; margin-left: auto; margin-right: auto;\" src=\"https://m.media-amazon.com/images/M/MV5BN2FiZWVhOGUtM2QxNy00NzcwLTg2NGQtYjE0ZDMwN2M4MjMzXkEyXkFqcGdeQXVyMTg1MjUxMjA@._V1_UY317_CR61,0,214,317_AL_.jpg\"/>\n",
       "        </a>\n",
       "    </div>\n",
       "    </div><div style=\"margin-left: 10px; float: left\">\n",
       "    <div style=\"width: 150px; text-align: center\">\n",
       "        <h4 style='margin-top: -5px'>Octavia Spencer</h4>\n",
       "        <div style='font-size:75%; margin-bottom: 5px'>nm0818055</div>\n",
       "        <a href=\"https://www.imdb.com/name/nm0818055\" target=\"_blank\">\n",
       "            <img style=\"width: 100px; display: block; margin-left: auto; margin-right: auto;\" src=\"https://m.media-amazon.com/images/M/MV5BMTg0MjcwMjcxNl5BMl5BanBnXkFtZTcwMjkwODg0Ng@@._V1_UY317_CR11,0,214,317_AL_.jpg\"/>\n",
       "        </a>\n",
       "    </div>\n",
       "    </div><div style=\"margin-left: 10px; float: left\">\n",
       "    <div style=\"width: 150px; text-align: center\">\n",
       "        <h4 style='margin-top: -5px'>Jennifer Lawrence</h4>\n",
       "        <div style='font-size:75%; margin-bottom: 5px'>nm2225369</div>\n",
       "        <a href=\"https://www.imdb.com/name/nm2225369\" target=\"_blank\">\n",
       "            <img style=\"width: 100px; display: block; margin-left: auto; margin-right: auto;\" src=\"https://m.media-amazon.com/images/M/MV5BOTU3NDE5MDQ4MV5BMl5BanBnXkFtZTgwMzE5ODQ3MDI@._V1_UX214_CR0,0,214,317_AL_.jpg\"/>\n",
       "        </a>\n",
       "    </div>\n",
       "    </div><div style=\"margin-left: 10px; float: left\">\n",
       "    <div style=\"width: 150px; text-align: center\">\n",
       "        <h4 style='margin-top: -5px'>Rashida Jones</h4>\n",
       "        <div style='font-size:75%; margin-bottom: 5px'>nm0429069</div>\n",
       "        <a href=\"https://www.imdb.com/name/nm0429069\" target=\"_blank\">\n",
       "            <img style=\"width: 100px; display: block; margin-left: auto; margin-right: auto;\" src=\"https://m.media-amazon.com/images/M/MV5BMjA0ODM2MzQ2NV5BMl5BanBnXkFtZTcwMTAxNTUxOQ@@._V1_UY317_CR4,0,214,317_AL_.jpg\"/>\n",
       "        </a>\n",
       "    </div>\n",
       "    </div><div style=\"margin-left: 10px; float: left\">\n",
       "    <div style=\"width: 150px; text-align: center\">\n",
       "        <h4 style='margin-top: -5px'>Stephanie Beatriz</h4>\n",
       "        <div style='font-size:75%; margin-bottom: 5px'>nm3715867</div>\n",
       "        <a href=\"https://www.imdb.com/name/nm3715867\" target=\"_blank\">\n",
       "            <img style=\"width: 100px; display: block; margin-left: auto; margin-right: auto;\" src=\"https://m.media-amazon.com/images/M/MV5BYWY3ZGQ0OGUtZDNjYi00MmRkLWE4YmMtYzk3MzAwZjQxMDRlXkEyXkFqcGdeQXVyODkzNTgxMDg@._V1_UY317_CR123,0,214,317_AL_.jpg\"/>\n",
       "        </a>\n",
       "    </div>\n",
       "    </div></div>"
      ],
      "text/plain": [
       "<IPython.core.display.HTML object>"
      ]
     },
     "metadata": {},
     "output_type": "display_data"
    }
   ],
   "source": [
    "show_similars(wtv,'nm0695435')"
   ]
  },
  {
   "cell_type": "code",
   "execution_count": 29,
   "id": "60d6dc49",
   "metadata": {},
   "outputs": [
    {
     "data": {
      "text/html": [
       "\n",
       "    <div style=\"width: 150px; text-align: center\">\n",
       "        <h4 style='margin-top: -5px'>Jennifer Lawrence</h4>\n",
       "        <div style='font-size:75%; margin-bottom: 5px'>nm2225369</div>\n",
       "        <a href=\"https://www.imdb.com/name/nm2225369\" target=\"_blank\">\n",
       "            <img style=\"width: 100px; display: block; margin-left: auto; margin-right: auto;\" src=\"https://m.media-amazon.com/images/M/MV5BOTU3NDE5MDQ4MV5BMl5BanBnXkFtZTgwMzE5ODQ3MDI@._V1_UX214_CR0,0,214,317_AL_.jpg\"/>\n",
       "        </a>\n",
       "    </div>\n",
       "    "
      ],
      "text/plain": [
       "<IPython.core.display.HTML object>"
      ]
     },
     "metadata": {},
     "output_type": "display_data"
    },
    {
     "data": {
      "text/html": [
       "<div style=\"width: 1800px\"><div style=\"margin-left: 10px; float: left\">\n",
       "    <div style=\"width: 150px; text-align: center\">\n",
       "        <h4 style='margin-top: -5px'>Mindy Kaling</h4>\n",
       "        <div style='font-size:75%; margin-bottom: 5px'>nm1411676</div>\n",
       "        <a href=\"https://www.imdb.com/name/nm1411676\" target=\"_blank\">\n",
       "            <img style=\"width: 100px; display: block; margin-left: auto; margin-right: auto;\" src=\"https://m.media-amazon.com/images/M/MV5BNzQ2OTUzNDU1MF5BMl5BanBnXkFtZTcwODQ2MTYyNw@@._V1_UX214_CR0,0,214,317_AL_.jpg\"/>\n",
       "        </a>\n",
       "    </div>\n",
       "    </div><div style=\"margin-left: 10px; float: left\">\n",
       "    <div style=\"width: 150px; text-align: center\">\n",
       "        <h4 style='margin-top: -5px'>Bradley Cooper</h4>\n",
       "        <div style='font-size:75%; margin-bottom: 5px'>nm0177896</div>\n",
       "        <a href=\"https://www.imdb.com/name/nm0177896\" target=\"_blank\">\n",
       "            <img style=\"width: 100px; display: block; margin-left: auto; margin-right: auto;\" src=\"https://m.media-amazon.com/images/M/MV5BMjM0OTIyMzY1M15BMl5BanBnXkFtZTgwMTg0OTE0NzE@._V1_UX214_CR0,0,214,317_AL_.jpg\"/>\n",
       "        </a>\n",
       "    </div>\n",
       "    </div><div style=\"margin-left: 10px; float: left\">\n",
       "    <div style=\"width: 150px; text-align: center\">\n",
       "        <h4 style='margin-top: -5px'>Meryl Streep</h4>\n",
       "        <div style='font-size:75%; margin-bottom: 5px'>nm0000658</div>\n",
       "        <a href=\"https://www.imdb.com/name/nm0000658\" target=\"_blank\">\n",
       "            <img style=\"width: 100px; display: block; margin-left: auto; margin-right: auto;\" src=\"https://m.media-amazon.com/images/M/MV5BMTU4Mjk5MDExOF5BMl5BanBnXkFtZTcwOTU1MTMyMw@@._V1_UY317_CR6,0,214,317_AL_.jpg\"/>\n",
       "        </a>\n",
       "    </div>\n",
       "    </div><div style=\"margin-left: 10px; float: left\">\n",
       "    <div style=\"width: 150px; text-align: center\">\n",
       "        <h4 style='margin-top: -5px'>Emily Blunt</h4>\n",
       "        <div style='font-size:75%; margin-bottom: 5px'>nm1289434</div>\n",
       "        <a href=\"https://www.imdb.com/name/nm1289434\" target=\"_blank\">\n",
       "            <img style=\"width: 100px; display: block; margin-left: auto; margin-right: auto;\" src=\"https://m.media-amazon.com/images/M/MV5BMTUxNDY4MTMzM15BMl5BanBnXkFtZTcwMjg5NzM2Ng@@._V1_UX214_CR0,0,214,317_AL_.jpg\"/>\n",
       "        </a>\n",
       "    </div>\n",
       "    </div><div style=\"margin-left: 10px; float: left\">\n",
       "    <div style=\"width: 150px; text-align: center\">\n",
       "        <h4 style='margin-top: -5px'>Constance Wu</h4>\n",
       "        <div style='font-size:75%; margin-bottom: 5px'>nm2090422</div>\n",
       "        <a href=\"https://www.imdb.com/name/nm2090422\" target=\"_blank\">\n",
       "            <img style=\"width: 100px; display: block; margin-left: auto; margin-right: auto;\" src=\"https://m.media-amazon.com/images/M/MV5BMjRhYTBlNmYtYTMzMi00YjIyLTllMWYtMDJkNGJjYmMzN2Q4XkEyXkFqcGdeQXVyNzU5OTk3OQ@@._V1_UX214_CR0,0,214,317_AL_.jpg\"/>\n",
       "        </a>\n",
       "    </div>\n",
       "    </div><div style=\"margin-left: 10px; float: left\">\n",
       "    <div style=\"width: 150px; text-align: center\">\n",
       "        <h4 style='margin-top: -5px'>Brigette Lundy-Paine</h4>\n",
       "        <div style='font-size:75%; margin-bottom: 5px'>nm6617420</div>\n",
       "        <a href=\"https://www.imdb.com/name/nm6617420\" target=\"_blank\">\n",
       "            <img style=\"width: 100px; display: block; margin-left: auto; margin-right: auto;\" src=\"https://m.media-amazon.com/images/M/MV5BODk4NDA2MDk4OV5BMl5BanBnXkFtZTgwNjc4NDIzMzI@._V1_UY317_CR130,0,214,317_AL_.jpg\"/>\n",
       "        </a>\n",
       "    </div>\n",
       "    </div><div style=\"margin-left: 10px; float: left\">\n",
       "    <div style=\"width: 150px; text-align: center\">\n",
       "        <h4 style='margin-top: -5px'>Daisy Ridley</h4>\n",
       "        <div style='font-size:75%; margin-bottom: 5px'>nm5397459</div>\n",
       "        <a href=\"https://www.imdb.com/name/nm5397459\" target=\"_blank\">\n",
       "            <img style=\"width: 100px; display: block; margin-left: auto; margin-right: auto;\" src=\"https://m.media-amazon.com/images/M/MV5BMTgzMDk3MjI4OF5BMl5BanBnXkFtZTgwMzQxMDY5NjE@._V1_UY317_CR20,0,214,317_AL_.jpg\"/>\n",
       "        </a>\n",
       "    </div>\n",
       "    </div><div style=\"margin-left: 10px; float: left\">\n",
       "    <div style=\"width: 150px; text-align: center\">\n",
       "        <h4 style='margin-top: -5px'>Ansel Elgort</h4>\n",
       "        <div style='font-size:75%; margin-bottom: 5px'>nm5052065</div>\n",
       "        <a href=\"https://www.imdb.com/name/nm5052065\" target=\"_blank\">\n",
       "            <img style=\"width: 100px; display: block; margin-left: auto; margin-right: auto;\" src=\"https://m.media-amazon.com/images/M/MV5BZTk1NWNmMTEtODdiMS00YzQ1LTg4MDQtMDczMzU5OGM3ZGFhXkEyXkFqcGdeQXVyODIzMDE1OTg@._V1_UY317_CR12,0,214,317_AL_.jpg\"/>\n",
       "        </a>\n",
       "    </div>\n",
       "    </div><div style=\"margin-left: 10px; float: left\">\n",
       "    <div style=\"width: 150px; text-align: center\">\n",
       "        <h4 style='margin-top: -5px'>Robert Pattinson</h4>\n",
       "        <div style='font-size:75%; margin-bottom: 5px'>nm1500155</div>\n",
       "        <a href=\"https://www.imdb.com/name/nm1500155\" target=\"_blank\">\n",
       "            <img style=\"width: 100px; display: block; margin-left: auto; margin-right: auto;\" src=\"https://m.media-amazon.com/images/M/MV5BNzk0MDQ5OTUxMV5BMl5BanBnXkFtZTcwMDM5ODk5Mg@@._V1_UY317_CR12,0,214,317_AL_.jpg\"/>\n",
       "        </a>\n",
       "    </div>\n",
       "    </div><div style=\"margin-left: 10px; float: left\">\n",
       "    <div style=\"width: 150px; text-align: center\">\n",
       "        <h4 style='margin-top: -5px'>Daveed Diggs</h4>\n",
       "        <div style='font-size:75%; margin-bottom: 5px'>nm4377526</div>\n",
       "        <a href=\"https://www.imdb.com/name/nm4377526\" target=\"_blank\">\n",
       "            <img style=\"width: 100px; display: block; margin-left: auto; margin-right: auto;\" src=\"https://m.media-amazon.com/images/M/MV5BMTY5NzA2ODI1MV5BMl5BanBnXkFtZTgwMzg1OTg4ODE@._V1_UY317_CR59,0,214,317_AL_.jpg\"/>\n",
       "        </a>\n",
       "    </div>\n",
       "    </div></div>"
      ],
      "text/plain": [
       "<IPython.core.display.HTML object>"
      ]
     },
     "metadata": {},
     "output_type": "display_data"
    }
   ],
   "source": [
    "show_similars(wtv,'nm2225369')"
   ]
  },
  {
   "cell_type": "code",
   "execution_count": 30,
   "id": "a01b6140",
   "metadata": {},
   "outputs": [
    {
     "data": {
      "text/html": [
       "\n",
       "    <div style=\"width: 150px; text-align: center\">\n",
       "        <h4 style='margin-top: -5px'>Robert Downey Jr.</h4>\n",
       "        <div style='font-size:75%; margin-bottom: 5px'>nm0000375</div>\n",
       "        <a href=\"https://www.imdb.com/name/nm0000375\" target=\"_blank\">\n",
       "            <img style=\"width: 100px; display: block; margin-left: auto; margin-right: auto;\" src=\"https://m.media-amazon.com/images/M/MV5BNzg1MTUyNDYxOF5BMl5BanBnXkFtZTgwNTQ4MTE2MjE@._V1_UX214_CR0,0,214,317_AL_.jpg\"/>\n",
       "        </a>\n",
       "    </div>\n",
       "    "
      ],
      "text/plain": [
       "<IPython.core.display.HTML object>"
      ]
     },
     "metadata": {},
     "output_type": "display_data"
    },
    {
     "data": {
      "text/html": [
       "<div style=\"width: 1800px\"><div style=\"margin-left: 10px; float: left\">\n",
       "    <div style=\"width: 150px; text-align: center\">\n",
       "        <h4 style='margin-top: -5px'>Jessica Lange</h4>\n",
       "        <div style='font-size:75%; margin-bottom: 5px'>nm0001448</div>\n",
       "        <a href=\"https://www.imdb.com/name/nm0001448\" target=\"_blank\">\n",
       "            <img style=\"width: 100px; display: block; margin-left: auto; margin-right: auto;\" src=\"https://m.media-amazon.com/images/M/MV5BMjg5ODIyMjY0NF5BMl5BanBnXkFtZTcwNDcyNjY0MQ@@._V1_UY317_CR21,0,214,317_AL_.jpg\"/>\n",
       "        </a>\n",
       "    </div>\n",
       "    </div><div style=\"margin-left: 10px; float: left\">\n",
       "    <div style=\"width: 150px; text-align: center\">\n",
       "        <h4 style='margin-top: -5px'>Gwyneth Paltrow</h4>\n",
       "        <div style='font-size:75%; margin-bottom: 5px'>nm0000569</div>\n",
       "        <a href=\"https://www.imdb.com/name/nm0000569\" target=\"_blank\">\n",
       "            <img style=\"width: 100px; display: block; margin-left: auto; margin-right: auto;\" src=\"https://m.media-amazon.com/images/M/MV5BNzIxOTQ1NTU1OV5BMl5BanBnXkFtZTcwMTQ4MDY0Nw@@._V1_UX214_CR0,0,214,317_AL_.jpg\"/>\n",
       "        </a>\n",
       "    </div>\n",
       "    </div><div style=\"margin-left: 10px; float: left\">\n",
       "    <div style=\"width: 150px; text-align: center\">\n",
       "        <h4 style='margin-top: -5px'>Jake Gyllenhaal</h4>\n",
       "        <div style='font-size:75%; margin-bottom: 5px'>nm0350453</div>\n",
       "        <a href=\"https://www.imdb.com/name/nm0350453\" target=\"_blank\">\n",
       "            <img style=\"width: 100px; display: block; margin-left: auto; margin-right: auto;\" src=\"https://m.media-amazon.com/images/M/MV5BNjA0MTU2NDY3MF5BMl5BanBnXkFtZTgwNDU4ODkzMzE@._V1_UX214_CR0,0,214,317_AL_.jpg\"/>\n",
       "        </a>\n",
       "    </div>\n",
       "    </div><div style=\"margin-left: 10px; float: left\">\n",
       "    <div style=\"width: 150px; text-align: center\">\n",
       "        <h4 style='margin-top: -5px'>Nicole Kidman</h4>\n",
       "        <div style='font-size:75%; margin-bottom: 5px'>nm0000173</div>\n",
       "        <a href=\"https://www.imdb.com/name/nm0000173\" target=\"_blank\">\n",
       "            <img style=\"width: 100px; display: block; margin-left: auto; margin-right: auto;\" src=\"https://m.media-amazon.com/images/M/MV5BMTk1MjM5NDg4MF5BMl5BanBnXkFtZTcwNDg1OTQ4Nw@@._V1_UY317_CR10,0,214,317_AL_.jpg\"/>\n",
       "        </a>\n",
       "    </div>\n",
       "    </div><div style=\"margin-left: 10px; float: left\">\n",
       "    <div style=\"width: 150px; text-align: center\">\n",
       "        <h4 style='margin-top: -5px'>Matthew McConaughey</h4>\n",
       "        <div style='font-size:75%; margin-bottom: 5px'>nm0000190</div>\n",
       "        <a href=\"https://www.imdb.com/name/nm0000190\" target=\"_blank\">\n",
       "            <img style=\"width: 100px; display: block; margin-left: auto; margin-right: auto;\" src=\"https://m.media-amazon.com/images/M/MV5BMTg0MDc3ODUwOV5BMl5BanBnXkFtZTcwMTk2NjY4Nw@@._V1_UX214_CR0,0,214,317_AL_.jpg\"/>\n",
       "        </a>\n",
       "    </div>\n",
       "    </div><div style=\"margin-left: 10px; float: left\">\n",
       "    <div style=\"width: 150px; text-align: center\">\n",
       "        <h4 style='margin-top: -5px'>Michelle Monaghan</h4>\n",
       "        <div style='font-size:75%; margin-bottom: 5px'>nm1157358</div>\n",
       "        <a href=\"https://www.imdb.com/name/nm1157358\" target=\"_blank\">\n",
       "            <img style=\"width: 100px; display: block; margin-left: auto; margin-right: auto;\" src=\"https://m.media-amazon.com/images/M/MV5BNzEwYTdjNjYtZDk4NC00YzFmLTlkZTQtNTQyZTg3YmIxYWIxL2ltYWdlXkEyXkFqcGdeQXVyNzg5MzIyOA@@._V1_UY317_CR20,0,214,317_AL_.jpg\"/>\n",
       "        </a>\n",
       "    </div>\n",
       "    </div><div style=\"margin-left: 10px; float: left\">\n",
       "    <div style=\"width: 150px; text-align: center\">\n",
       "        <h4 style='margin-top: -5px'>Daryl Hannah</h4>\n",
       "        <div style='font-size:75%; margin-bottom: 5px'>nm0000435</div>\n",
       "        <a href=\"https://www.imdb.com/name/nm0000435\" target=\"_blank\">\n",
       "            <img style=\"width: 100px; display: block; margin-left: auto; margin-right: auto;\" src=\"https://m.media-amazon.com/images/M/MV5BMjE0MjUyMzMxOF5BMl5BanBnXkFtZTcwNjEzNjI5Ng@@._V1_UY317_CR6,0,214,317_AL_.jpg\"/>\n",
       "        </a>\n",
       "    </div>\n",
       "    </div><div style=\"margin-left: 10px; float: left\">\n",
       "    <div style=\"width: 150px; text-align: center\">\n",
       "        <h4 style='margin-top: -5px'>Hope Davis</h4>\n",
       "        <div style='font-size:75%; margin-bottom: 5px'>nm0204706</div>\n",
       "        <a href=\"https://www.imdb.com/name/nm0204706\" target=\"_blank\">\n",
       "            <img style=\"width: 100px; display: block; margin-left: auto; margin-right: auto;\" src=\"https://m.media-amazon.com/images/M/MV5BOTM4Mjk5MjAwNF5BMl5BanBnXkFtZTcwNzQ3MTk3Mw@@._V1_UX214_CR0,0,214,317_AL_.jpg\"/>\n",
       "        </a>\n",
       "    </div>\n",
       "    </div><div style=\"margin-left: 10px; float: left\">\n",
       "    <div style=\"width: 150px; text-align: center\">\n",
       "        <h4 style='margin-top: -5px'>Gong Li</h4>\n",
       "        <div style='font-size:75%; margin-bottom: 5px'>nm0000084</div>\n",
       "        <a href=\"https://www.imdb.com/name/nm0000084\" target=\"_blank\">\n",
       "            <img style=\"width: 100px; display: block; margin-left: auto; margin-right: auto;\" src=\"https://m.media-amazon.com/images/M/MV5BMTk4MzMwMjc5NF5BMl5BanBnXkFtZTYwMDMyNzQz._V1_UX214_CR0,0,214,317_AL_.jpg\"/>\n",
       "        </a>\n",
       "    </div>\n",
       "    </div><div style=\"margin-left: 10px; float: left\">\n",
       "    <div style=\"width: 150px; text-align: center\">\n",
       "        <h4 style='margin-top: -5px'>Joaquin Phoenix</h4>\n",
       "        <div style='font-size:75%; margin-bottom: 5px'>nm0001618</div>\n",
       "        <a href=\"https://www.imdb.com/name/nm0001618\" target=\"_blank\">\n",
       "            <img style=\"width: 100px; display: block; margin-left: auto; margin-right: auto;\" src=\"https://m.media-amazon.com/images/M/MV5BZGMyY2Q4NTEtMWVkZS00NzcwLTkzNmQtYzBlMWZhZGNhMDhkXkEyXkFqcGdeQXVyNjk1MjYyNTA@._V1_UX214_CR0,0,214,317_AL_.jpg\"/>\n",
       "        </a>\n",
       "    </div>\n",
       "    </div></div>"
      ],
      "text/plain": [
       "<IPython.core.display.HTML object>"
      ]
     },
     "metadata": {},
     "output_type": "display_data"
    }
   ],
   "source": [
    "show_similars(wtv,'nm0000375')"
   ]
  },
  {
   "cell_type": "code",
   "execution_count": 31,
   "id": "68c80b6d",
   "metadata": {},
   "outputs": [
    {
     "data": {
      "text/html": [
       "\n",
       "    <div style=\"width: 150px; text-align: center\">\n",
       "        <h4 style='margin-top: -5px'>Scarlett Johansson</h4>\n",
       "        <div style='font-size:75%; margin-bottom: 5px'>nm0424060</div>\n",
       "        <a href=\"https://www.imdb.com/name/nm0424060\" target=\"_blank\">\n",
       "            <img style=\"width: 100px; display: block; margin-left: auto; margin-right: auto;\" src=\"https://m.media-amazon.com/images/M/MV5BMTM3OTUwMDYwNl5BMl5BanBnXkFtZTcwNTUyNzc3Nw@@._V1_UY317_CR23,0,214,317_AL_.jpg\"/>\n",
       "        </a>\n",
       "    </div>\n",
       "    "
      ],
      "text/plain": [
       "<IPython.core.display.HTML object>"
      ]
     },
     "metadata": {},
     "output_type": "display_data"
    },
    {
     "data": {
      "text/html": [
       "<div style=\"width: 1800px\"><div style=\"margin-left: 10px; float: left\">\n",
       "    <div style=\"width: 150px; text-align: center\">\n",
       "        <h4 style='margin-top: -5px'>Justin Timberlake</h4>\n",
       "        <div style='font-size:75%; margin-bottom: 5px'>nm0005493</div>\n",
       "        <a href=\"https://www.imdb.com/name/nm0005493\" target=\"_blank\">\n",
       "            <img style=\"width: 100px; display: block; margin-left: auto; margin-right: auto;\" src=\"https://m.media-amazon.com/images/M/MV5BMTUwMjE1MjU2N15BMl5BanBnXkFtZTcwNjk0ODY1NA@@._V1_UY317_CR10,0,214,317_AL_.jpg\"/>\n",
       "        </a>\n",
       "    </div>\n",
       "    </div><div style=\"margin-left: 10px; float: left\">\n",
       "    <div style=\"width: 150px; text-align: center\">\n",
       "        <h4 style='margin-top: -5px'>Hugh Jackman</h4>\n",
       "        <div style='font-size:75%; margin-bottom: 5px'>nm0413168</div>\n",
       "        <a href=\"https://www.imdb.com/name/nm0413168\" target=\"_blank\">\n",
       "            <img style=\"width: 100px; display: block; margin-left: auto; margin-right: auto;\" src=\"https://m.media-amazon.com/images/M/MV5BNDExMzIzNjk3Nl5BMl5BanBnXkFtZTcwOTE4NDU5OA@@._V1_UX214_CR0,0,214,317_AL_.jpg\"/>\n",
       "        </a>\n",
       "    </div>\n",
       "    </div><div style=\"margin-left: 10px; float: left\">\n",
       "    <div style=\"width: 150px; text-align: center\">\n",
       "        <h4 style='margin-top: -5px'>Nathan Fillion</h4>\n",
       "        <div style='font-size:75%; margin-bottom: 5px'>nm0277213</div>\n",
       "        <a href=\"https://www.imdb.com/name/nm0277213\" target=\"_blank\">\n",
       "            <img style=\"width: 100px; display: block; margin-left: auto; margin-right: auto;\" src=\"https://m.media-amazon.com/images/M/MV5BMTkxODM3ODY2Nl5BMl5BanBnXkFtZTgwMzAyMjU2NzE@._V1_UY317_CR20,0,214,317_AL_.jpg\"/>\n",
       "        </a>\n",
       "    </div>\n",
       "    </div><div style=\"margin-left: 10px; float: left\">\n",
       "    <div style=\"width: 150px; text-align: center\">\n",
       "        <h4 style='margin-top: -5px'>Natalie Portman</h4>\n",
       "        <div style='font-size:75%; margin-bottom: 5px'>nm0000204</div>\n",
       "        <a href=\"https://www.imdb.com/name/nm0000204\" target=\"_blank\">\n",
       "            <img style=\"width: 100px; display: block; margin-left: auto; margin-right: auto;\" src=\"https://m.media-amazon.com/images/M/MV5BYzU0ZGRhZWItMGJlNy00YzlkLWIzOWYtNDA2NzlhMDg3YjMwXkEyXkFqcGdeQXVyMDM2NDM2MQ@@._V1_UX214_CR0,0,214,317_AL_.jpg\"/>\n",
       "        </a>\n",
       "    </div>\n",
       "    </div><div style=\"margin-left: 10px; float: left\">\n",
       "    <div style=\"width: 150px; text-align: center\">\n",
       "        <h4 style='margin-top: -5px'>Matt Damon</h4>\n",
       "        <div style='font-size:75%; margin-bottom: 5px'>nm0000354</div>\n",
       "        <a href=\"https://www.imdb.com/name/nm0000354\" target=\"_blank\">\n",
       "            <img style=\"width: 100px; display: block; margin-left: auto; margin-right: auto;\" src=\"https://m.media-amazon.com/images/M/MV5BMTM0NzYzNDgxMl5BMl5BanBnXkFtZTcwMDg2MTMyMw@@._V1_UY317_CR11,0,214,317_AL_.jpg\"/>\n",
       "        </a>\n",
       "    </div>\n",
       "    </div><div style=\"margin-left: 10px; float: left\">\n",
       "    <div style=\"width: 150px; text-align: center\">\n",
       "        <h4 style='margin-top: -5px'>Pilou Asbæk</h4>\n",
       "        <div style='font-size:75%; margin-bottom: 5px'>nm1561982</div>\n",
       "        <a href=\"https://www.imdb.com/name/nm1561982\" target=\"_blank\">\n",
       "            <img style=\"width: 100px; display: block; margin-left: auto; margin-right: auto;\" src=\"https://m.media-amazon.com/images/M/MV5BNTEzMjUxODc5M15BMl5BanBnXkFtZTcwMjkwMjgxNA@@._V1_UY317_CR31,0,214,317_AL_.jpg\"/>\n",
       "        </a>\n",
       "    </div>\n",
       "    </div><div style=\"margin-left: 10px; float: left\">\n",
       "    <div style=\"width: 150px; text-align: center\">\n",
       "        <h4 style='margin-top: -5px'>Jemaine Clement</h4>\n",
       "        <div style='font-size:75%; margin-bottom: 5px'>nm1318596</div>\n",
       "        <a href=\"https://www.imdb.com/name/nm1318596\" target=\"_blank\">\n",
       "            <img style=\"width: 100px; display: block; margin-left: auto; margin-right: auto;\" src=\"https://m.media-amazon.com/images/M/MV5BMjE4ODY4Njc5N15BMl5BanBnXkFtZTcwMjk1ODIyMw@@._V1_UY317_CR1,0,214,317_AL_.jpg\"/>\n",
       "        </a>\n",
       "    </div>\n",
       "    </div><div style=\"margin-left: 10px; float: left\">\n",
       "    <div style=\"width: 150px; text-align: center\">\n",
       "        <h4 style='margin-top: -5px'>Casey Affleck</h4>\n",
       "        <div style='font-size:75%; margin-bottom: 5px'>nm0000729</div>\n",
       "        <a href=\"https://www.imdb.com/name/nm0000729\" target=\"_blank\">\n",
       "            <img style=\"width: 100px; display: block; margin-left: auto; margin-right: auto;\" src=\"https://m.media-amazon.com/images/M/MV5BMTY3Nzc0MDg1OF5BMl5BanBnXkFtZTgwMzk5OTk2OTE@._V1_UY317_CR129,0,214,317_AL_.jpg\"/>\n",
       "        </a>\n",
       "    </div>\n",
       "    </div><div style=\"margin-left: 10px; float: left\">\n",
       "    <div style=\"width: 150px; text-align: center\">\n",
       "        <h4 style='margin-top: -5px'>Jake Gyllenhaal</h4>\n",
       "        <div style='font-size:75%; margin-bottom: 5px'>nm0350453</div>\n",
       "        <a href=\"https://www.imdb.com/name/nm0350453\" target=\"_blank\">\n",
       "            <img style=\"width: 100px; display: block; margin-left: auto; margin-right: auto;\" src=\"https://m.media-amazon.com/images/M/MV5BNjA0MTU2NDY3MF5BMl5BanBnXkFtZTgwNDU4ODkzMzE@._V1_UX214_CR0,0,214,317_AL_.jpg\"/>\n",
       "        </a>\n",
       "    </div>\n",
       "    </div><div style=\"margin-left: 10px; float: left\">\n",
       "    <div style=\"width: 150px; text-align: center\">\n",
       "        <h4 style='margin-top: -5px'>Philip Bailey</h4>\n",
       "        <div style='font-size:75%; margin-bottom: 5px'>nm0047444</div>\n",
       "        <a href=\"https://www.imdb.com/name/nm0047444\" target=\"_blank\">\n",
       "            <img style=\"width: 100px; display: block; margin-left: auto; margin-right: auto;\" src=\"https://m.media-amazon.com/images/M/MV5BMTI5MjUwNzg2NV5BMl5BanBnXkFtZTYwODEyMTQ1._V1_UY317_CR122,0,214,317_AL_.jpg\"/>\n",
       "        </a>\n",
       "    </div>\n",
       "    </div></div>"
      ],
      "text/plain": [
       "<IPython.core.display.HTML object>"
      ]
     },
     "metadata": {},
     "output_type": "display_data"
    }
   ],
   "source": [
    "show_similars(wtv,'nm0424060')"
   ]
  },
  {
   "cell_type": "markdown",
   "id": "ecce2a7b",
   "metadata": {},
   "source": [
    "### Find Best Parameter\n",
    "開始對不同參數進行tuning"
   ]
  },
  {
   "cell_type": "code",
   "execution_count": 53,
   "id": "43e2b49b",
   "metadata": {},
   "outputs": [],
   "source": [
    "def transform(model,dim=100):\n",
    "    movie_act = pd.DataFrame({'tconst': cast['tconst'].unique(), 'nconst': to_wtv})\n",
    "    means = []\n",
    "    for names in movie_act['nconst'].tolist():\n",
    "        vec = np.zeros((len(names),dim))\n",
    "        cnt = 0\n",
    "\n",
    "        for name in names:\n",
    "            try:\n",
    "                vec[cnt] = model.wv[name]\n",
    "                cnt += 1\n",
    "            except:\n",
    "                pass\n",
    "\n",
    "        for i in range(vec.shape[0]-cnt):\n",
    "            vec = np.delete(vec, -1, 0)\n",
    "\n",
    "        if vec.shape[0] > 0:\n",
    "            mean_vec = np.mean(vec,axis=0)\n",
    "        else:\n",
    "            mean_vec = pd.NA\n",
    "\n",
    "        means.append(mean_vec)\n",
    "    movie_act['mean'] = means\n",
    "    \n",
    "    movie_vec = pd.merge(movies['tconst'],movie_act,on='tconst',how='left')\n",
    "    x2 = pd.concat([x,y],axis=1)\n",
    "    x2['mean'] = movie_vec['mean']\n",
    "    x2.dropna(inplace=True)\n",
    "    x2 = x2.reset_index().drop(['index'],axis=1)\n",
    "    y2 = x2['averageRating']\n",
    "    \n",
    "    vecdim = ['actdim%d'%i for i in range(1,dim+1)]\n",
    "    x_act = pd.DataFrame(data=x2['mean'].tolist(),columns=vecdim)\n",
    "    \n",
    "    x2 = x2.drop(['mean','averageRating'],axis=1)\n",
    "    \n",
    "    return x2,x_act,y2"
   ]
  },
  {
   "cell_type": "markdown",
   "id": "b4ae4182",
   "metadata": {},
   "source": [
    "#### Epoch"
   ]
  },
  {
   "cell_type": "code",
   "execution_count": 321,
   "id": "975f8292",
   "metadata": {},
   "outputs": [
    {
     "name": "stdout",
     "output_type": "stream",
     "text": [
      "Epoch = 1\n",
      "Only Other Features: x2\n",
      "0.21094122348464217\n",
      "-----\n",
      "Only Actor Vectors: x_act\n",
      "0.007500443182337335\n",
      "-----\n",
      "Combine: x2_act\n",
      "0.21505186354533234\n",
      "=====\n",
      "Epoch = 10\n",
      "Only Other Features: x2\n",
      "0.21094122348464217\n",
      "-----\n",
      "Only Actor Vectors: x_act\n",
      "0.07075190886261462\n",
      "-----\n",
      "Combine: x2_act\n",
      "0.24396112467730602\n",
      "=====\n",
      "Epoch = 50\n",
      "Only Other Features: x2\n",
      "0.21094122348464217\n",
      "-----\n",
      "Only Actor Vectors: x_act\n",
      "0.1176536755534564\n",
      "-----\n",
      "Combine: x2_act\n",
      "0.2601097358000357\n",
      "=====\n",
      "Epoch = 100\n",
      "Only Other Features: x2\n",
      "0.21094122348464217\n",
      "-----\n",
      "Only Actor Vectors: x_act\n",
      "0.12156712579348172\n",
      "-----\n",
      "Combine: x2_act\n",
      "0.260946783133317\n",
      "=====\n",
      "Epoch = 200\n",
      "Only Other Features: x2\n",
      "0.21094122348464217\n",
      "-----\n",
      "Only Actor Vectors: x_act\n",
      "0.12323938313108884\n",
      "-----\n",
      "Combine: x2_act\n",
      "0.2598417503013557\n",
      "=====\n"
     ]
    }
   ],
   "source": [
    "epochs = [1,10,50,100,200]\n",
    "scores = np.zeros((3,5))\n",
    "\n",
    "for ii,i in enumerate(epochs):\n",
    "    wtv = Word2Vec(window=10, min_count=5)\n",
    "    wtv.build_vocab(to_wtv)\n",
    "    wtv.train(to_wtv, total_words=wtv.corpus_total_words, epochs=i)\n",
    "    x2,x_act,y2 = transform(wtv)\n",
    "    \n",
    "    print('Epoch = %d'%i)\n",
    "    print('Only Other Features: x2')\n",
    "    reg = LinearRegression().fit(x2,y2)\n",
    "    a = reg.score(x2,y2)\n",
    "    print(a)\n",
    "    \n",
    "    print(\"-----\")\n",
    "    print('Only Actor Vectors: x_act')\n",
    "    reg = LinearRegression().fit(x_act,y2)\n",
    "    b = reg.score(x_act,y2)\n",
    "    print(b)\n",
    "    \n",
    "    print(\"-----\")\n",
    "    print('Combine: x2_act')\n",
    "    x2_act = pd.concat([x2,x_act],axis=1)\n",
    "    reg = LinearRegression().fit(x2_act,y2)\n",
    "    c = reg.score(x2_act,y2)\n",
    "    print(c)\n",
    "    print(\"=====\")\n",
    "    \n",
    "    scores[0][ii] = a\n",
    "    scores[1][ii] = b\n",
    "    scores[2][ii] = c"
   ]
  },
  {
   "cell_type": "code",
   "execution_count": 322,
   "id": "f4eb7c1f",
   "metadata": {},
   "outputs": [
    {
     "data": {
      "image/png": "[encoded data removed]",
      "text/plain": [
       "<Figure size 864x576 with 1 Axes>"
      ]
     },
     "metadata": {
      "needs_background": "light"
     },
     "output_type": "display_data"
    }
   ],
   "source": [
    "plt.figure(figsize=(12,8))\n",
    "plt.plot(epochs, scores[0], label=\"Only Other Features\")\n",
    "plt.plot(epochs, scores[1], label=\"Only Actor Features\")\n",
    "plt.plot(epochs, scores[2], label=\"Combine\")\n",
    "plt.xlabel(\"epoch\")\n",
    "plt.ylabel('r^2')\n",
    "plt.legend()\n",
    "plt.title(\"Epoch vs r^2\")\n",
    "plt.show()"
   ]
  },
  {
   "cell_type": "markdown",
   "id": "8e0e0f24",
   "metadata": {},
   "source": [
    "#### Min Count"
   ]
  },
  {
   "cell_type": "code",
   "execution_count": 323,
   "id": "21999e54",
   "metadata": {},
   "outputs": [
    {
     "name": "stdout",
     "output_type": "stream",
     "text": [
      "Min Count = 1\n",
      "Only Other Features: x2\n",
      "0.21833812487405646\n",
      "-----\n",
      "Only Actor Vectors: x_act\n",
      "0.10125991078431429\n",
      "-----\n",
      "Combine: x2_act\n",
      "0.25889869773069685\n",
      "=====\n",
      "Min Count = 5\n",
      "Only Other Features: x2\n",
      "0.21094122348464217\n",
      "-----\n",
      "Only Actor Vectors: x_act\n",
      "0.12163382088217467\n",
      "-----\n",
      "Combine: x2_act\n",
      "0.2603222936849049\n",
      "=====\n",
      "Min Count = 10\n",
      "Only Other Features: x2\n",
      "0.21178427575831915\n",
      "-----\n",
      "Only Actor Vectors: x_act\n",
      "0.12258835687506253\n",
      "-----\n",
      "Combine: x2_act\n",
      "0.2585865636127519\n",
      "=====\n",
      "Min Count = 25\n",
      "Only Other Features: x2\n",
      "0.21323265439793115\n",
      "-----\n",
      "Only Actor Vectors: x_act\n",
      "0.1205936684902904\n",
      "-----\n",
      "Combine: x2_act\n",
      "0.2605007793451678\n",
      "=====\n",
      "Min Count = 40\n",
      "Only Other Features: x2\n",
      "0.21485010746257516\n",
      "-----\n",
      "Only Actor Vectors: x_act\n",
      "0.11349006697702313\n",
      "-----\n",
      "Combine: x2_act\n",
      "0.2586177631321339\n",
      "=====\n"
     ]
    }
   ],
   "source": [
    "counts = [1,5,10,25,40]\n",
    "scores = np.zeros((3,5))\n",
    "\n",
    "for ii,i in enumerate(counts):\n",
    "    wtv = Word2Vec(window=10, min_count=i)\n",
    "    wtv.build_vocab(to_wtv)\n",
    "    wtv.train(to_wtv, total_words=wtv.corpus_total_words, epochs=100)\n",
    "    x2,x_act,y2 = transform(wtv)\n",
    "    \n",
    "    print('Min Count = %d'%i)\n",
    "    print('Only Other Features: x2')\n",
    "    reg = LinearRegression().fit(x2,y2)\n",
    "    a = reg.score(x2,y2)\n",
    "    print(a)\n",
    "    \n",
    "    print(\"-----\")\n",
    "    print('Only Actor Vectors: x_act')\n",
    "    reg = LinearRegression().fit(x_act,y2)\n",
    "    b = reg.score(x_act,y2)\n",
    "    print(b)\n",
    "    \n",
    "    print(\"-----\")\n",
    "    print('Combine: x2_act')\n",
    "    x2_act = pd.concat([x2,x_act],axis=1)\n",
    "    reg = LinearRegression().fit(x2_act,y2)\n",
    "    c = reg.score(x2_act,y2)\n",
    "    print(c)\n",
    "    print(\"=====\")\n",
    "    \n",
    "    scores[0][ii] = a\n",
    "    scores[1][ii] = b\n",
    "    scores[2][ii] = c"
   ]
  },
  {
   "cell_type": "code",
   "execution_count": 324,
   "id": "c272b417",
   "metadata": {},
   "outputs": [
    {
     "data": {
      "image/png": "[encoded data removed]",
      "text/plain": [
       "<Figure size 864x576 with 1 Axes>"
      ]
     },
     "metadata": {
      "needs_background": "light"
     },
     "output_type": "display_data"
    }
   ],
   "source": [
    "plt.figure(figsize=(12,8))\n",
    "plt.plot(epochs, scores[0], label=\"Only Other Features\")\n",
    "plt.plot(epochs, scores[1], label=\"Only Actor Features\")\n",
    "plt.plot(epochs, scores[2], label=\"Combine\")\n",
    "plt.xlabel(\"Min Count\")\n",
    "plt.ylabel('r^2')\n",
    "plt.legend()\n",
    "plt.title(\"Min Count vs r^2\")\n",
    "plt.show()"
   ]
  },
  {
   "cell_type": "markdown",
   "id": "862fe7bb",
   "metadata": {},
   "source": [
    "#### Algorithms"
   ]
  },
  {
   "cell_type": "code",
   "execution_count": 325,
   "id": "b2741183",
   "metadata": {},
   "outputs": [
    {
     "name": "stdout",
     "output_type": "stream",
     "text": [
      "Only Other Features: x2\n",
      "0.21323265439793115\n",
      "-----\n",
      "Only Actor Vectors: x_act\n",
      "0.11968391033429715\n",
      "-----\n",
      "Combine: x2_act\n",
      "0.2599728631722511\n",
      "=====\n"
     ]
    }
   ],
   "source": [
    "wtv = Word2Vec(window=10, min_count=25,sg=0)\n",
    "wtv.build_vocab(to_wtv)\n",
    "wtv.train(to_wtv, total_words=wtv.corpus_total_words, epochs=100)\n",
    "x2,x_act,y2 = transform(wtv)\n",
    "\n",
    "print('Only Other Features: x2')\n",
    "reg = LinearRegression().fit(x2,y2)\n",
    "a = reg.score(x2,y2)\n",
    "print(a)\n",
    "\n",
    "print(\"-----\")\n",
    "print('Only Actor Vectors: x_act')\n",
    "reg = LinearRegression().fit(x_act,y2)\n",
    "b = reg.score(x_act,y2)\n",
    "print(b)\n",
    "\n",
    "print(\"-----\")\n",
    "print('Combine: x2_act')\n",
    "x2_act = pd.concat([x2,x_act],axis=1)\n",
    "reg = LinearRegression().fit(x2_act,y2)\n",
    "c = reg.score(x2_act,y2)\n",
    "print(c)\n",
    "print(\"=====\")"
   ]
  },
  {
   "cell_type": "code",
   "execution_count": 326,
   "id": "6a8f4fde",
   "metadata": {},
   "outputs": [
    {
     "name": "stdout",
     "output_type": "stream",
     "text": [
      "Only Other Features: x2\n",
      "0.21323265439793115\n",
      "-----\n",
      "Only Actor Vectors: x_act\n",
      "0.11592816333278255\n",
      "-----\n",
      "Combine: x2_act\n",
      "0.2580499187341694\n",
      "=====\n"
     ]
    }
   ],
   "source": [
    "wtv = Word2Vec(window=10, min_count=25,sg=1)\n",
    "wtv.build_vocab(to_wtv)\n",
    "wtv.train(to_wtv, total_words=wtv.corpus_total_words, epochs=100)\n",
    "x2,x_act,y2 = transform(wtv)\n",
    "\n",
    "print('Only Other Features: x2')\n",
    "reg = LinearRegression().fit(x2,y2)\n",
    "a = reg.score(x2,y2)\n",
    "print(a)\n",
    "\n",
    "print(\"-----\")\n",
    "print('Only Actor Vectors: x_act')\n",
    "reg = LinearRegression().fit(x_act,y2)\n",
    "b = reg.score(x_act,y2)\n",
    "print(b)\n",
    "\n",
    "print(\"-----\")\n",
    "print('Combine: x2_act')\n",
    "x2_act = pd.concat([x2,x_act],axis=1)\n",
    "reg = LinearRegression().fit(x2_act,y2)\n",
    "c = reg.score(x2_act,y2)\n",
    "print(c)\n",
    "print(\"=====\")"
   ]
  },
  {
   "cell_type": "markdown",
   "id": "08b2d2c6",
   "metadata": {},
   "source": [
    "#### Dimensions"
   ]
  },
  {
   "cell_type": "code",
   "execution_count": null,
   "id": "30d30dec",
   "metadata": {},
   "outputs": [
    {
     "name": "stdout",
     "output_type": "stream",
     "text": [
      "Vector Size = 100\n",
      "Only Other Features: x2\n",
      "0.21323265439793115\n",
      "-----\n",
      "Only Actor Vectors: x_act\n",
      "0.11862477010759942\n",
      "-----\n",
      "Combine: x2_act\n",
      "0.2602017292291867\n",
      "=====\n",
      "Vector Size = 300\n",
      "Only Other Features: x2\n",
      "0.21323265439793115\n",
      "-----\n",
      "Only Actor Vectors: x_act\n",
      "0.1421104295286879\n",
      "-----\n",
      "Combine: x2_act\n",
      "0.27462379477321597\n",
      "=====\n"
     ]
    }
   ],
   "source": [
    "dims = [100,300,500]\n",
    "scores = np.zeros((3,5))\n",
    "\n",
    "for ii,i in enumerate(dims):\n",
    "    wtv = Word2Vec(window=10, min_count=25,vector_size=i)\n",
    "    wtv.build_vocab(to_wtv)\n",
    "    wtv.train(to_wtv, total_words=wtv.corpus_total_words, epochs=100)\n",
    "    x2,x_act,y2 = transform(wtv,i)\n",
    "    \n",
    "    print('Vector Size = %d'%i)\n",
    "    print('Only Other Features: x2')\n",
    "    reg = LinearRegression().fit(x2,y2)\n",
    "    a = reg.score(x2,y2)\n",
    "    print(a)\n",
    "    \n",
    "    print(\"-----\")\n",
    "    print('Only Actor Vectors: x_act')\n",
    "    reg = LinearRegression().fit(x_act,y2)\n",
    "    b = reg.score(x_act,y2)\n",
    "    print(b)\n",
    "    \n",
    "    print(\"-----\")\n",
    "    print('Combine: x2_act')\n",
    "    x2_act = pd.concat([x2,x_act],axis=1)\n",
    "    reg = LinearRegression().fit(x2_act,y2)\n",
    "    c = reg.score(x2_act,y2)\n",
    "    print(c)\n",
    "    print(\"=====\")\n",
    "    \n",
    "    scores[0][ii] = a\n",
    "    scores[1][ii] = b\n",
    "    scores[2][ii] = c"
   ]
  },
  {
   "cell_type": "code",
   "execution_count": 20,
   "id": "500f6f0a",
   "metadata": {},
   "outputs": [
    {
     "name": "stdout",
     "output_type": "stream",
     "text": [
      "Vector Size = 500\n",
      "Only Other Features: x2\n",
      "0.21323265439793115\n",
      "-----\n",
      "Only Actor Vectors: x_act\n",
      "0.1590692029181604\n",
      "-----\n",
      "Combine: x2_act\n",
      "0.2869158731466006\n",
      "=====\n"
     ]
    }
   ],
   "source": [
    "wtv = Word2Vec(window=10, min_count=25,vector_size=500)\n",
    "wtv.build_vocab(to_wtv)\n",
    "wtv.train(to_wtv, total_words=wtv.corpus_total_words, epochs=100)\n",
    "x2,x_act,y2 = transform(wtv,500)\n",
    "\n",
    "print('Vector Size = %d'%500)\n",
    "print('Only Other Features: x2')\n",
    "reg = LinearRegression().fit(x2,y2)\n",
    "a = reg.score(x2,y2)\n",
    "print(a)\n",
    "\n",
    "print(\"-----\")\n",
    "print('Only Actor Vectors: x_act')\n",
    "reg = LinearRegression().fit(x_act,y2)\n",
    "b = reg.score(x_act,y2)\n",
    "print(b)\n",
    "\n",
    "print(\"-----\")\n",
    "print('Combine: x2_act')\n",
    "x2_act = pd.concat([x2,x_act],axis=1)\n",
    "reg = LinearRegression().fit(x2_act,y2)\n",
    "c = reg.score(x2_act,y2)\n",
    "print(c)\n",
    "print(\"=====\")"
   ]
  },
  {
   "cell_type": "markdown",
   "id": "ea82d53b",
   "metadata": {},
   "source": [
    "### Final W2V"
   ]
  },
  {
   "cell_type": "code",
   "execution_count": 54,
   "id": "bc0223d0",
   "metadata": {},
   "outputs": [
    {
     "name": "stdout",
     "output_type": "stream",
     "text": [
      "Only Other Features: x2\n",
      "0.21323265439793115\n",
      "-----\n",
      "Only Actor Vectors: x_act\n",
      "0.14191460136063816\n",
      "-----\n",
      "Combine: x2_act\n",
      "0.27276571353403734\n",
      "=====\n"
     ]
    }
   ],
   "source": [
    "wtv = Word2Vec(window=10, min_count=25,vector_size=300)\n",
    "wtv.build_vocab(to_wtv)\n",
    "wtv.train(to_wtv, total_words=wtv.corpus_total_words, epochs=300)\n",
    "x2,x_act,y2 = transform(wtv,300)\n",
    "\n",
    "print('Only Other Features: x2')\n",
    "reg = LinearRegression().fit(x2,y2)\n",
    "a = reg.score(x2,y2)\n",
    "print(a)\n",
    "\n",
    "print(\"-----\")\n",
    "print('Only Actor Vectors: x_act')\n",
    "reg = LinearRegression().fit(x_act,y2)\n",
    "b = reg.score(x_act,y2)\n",
    "print(b)\n",
    "\n",
    "print(\"-----\")\n",
    "print('Combine: x2_act')\n",
    "x2_act = pd.concat([x2,x_act],axis=1)\n",
    "reg = LinearRegression().fit(x2_act,y2)\n",
    "c = reg.score(x2_act,y2)\n",
    "print(c)\n",
    "print(\"=====\")"
   ]
  },
  {
   "cell_type": "code",
   "execution_count": 18,
   "id": "e0512e4f",
   "metadata": {},
   "outputs": [],
   "source": [
    "wtv.save(\"model/bestw2v_model\")"
   ]
  },
  {
   "cell_type": "code",
   "execution_count": 44,
   "id": "cb21ebda",
   "metadata": {},
   "outputs": [],
   "source": [
    "wtv = Word2Vec.load(\"model/bestw2v_model\")"
   ]
  },
  {
   "cell_type": "markdown",
   "id": "ad2e15be",
   "metadata": {},
   "source": [
    "### BERT"
   ]
  },
  {
   "cell_type": "code",
   "execution_count": 3,
   "id": "a4ecd772",
   "metadata": {},
   "outputs": [
    {
     "data": {
      "text/html": [
       "<div>\n",
       "<style scoped>\n",
       "    .dataframe tbody tr th:only-of-type {\n",
       "        vertical-align: middle;\n",
       "    }\n",
       "\n",
       "    .dataframe tbody tr th {\n",
       "        vertical-align: top;\n",
       "    }\n",
       "\n",
       "    .dataframe thead th {\n",
       "        text-align: right;\n",
       "    }\n",
       "</style>\n",
       "<table border=\"1\" class=\"dataframe\">\n",
       "  <thead>\n",
       "    <tr style=\"text-align: right;\">\n",
       "      <th></th>\n",
       "      <th>tconst</th>\n",
       "      <th>titleType</th>\n",
       "      <th>primaryTitle</th>\n",
       "      <th>originalTitle</th>\n",
       "      <th>isAdult</th>\n",
       "      <th>startYear</th>\n",
       "      <th>endYear</th>\n",
       "      <th>runtimeMinutes</th>\n",
       "      <th>genres</th>\n",
       "      <th>averageRating</th>\n",
       "      <th>...</th>\n",
       "      <th>News</th>\n",
       "      <th>Reality-TV</th>\n",
       "      <th>Romance</th>\n",
       "      <th>Sci-Fi</th>\n",
       "      <th>Short</th>\n",
       "      <th>Sport</th>\n",
       "      <th>Talk-Show</th>\n",
       "      <th>Thriller</th>\n",
       "      <th>War</th>\n",
       "      <th>Western</th>\n",
       "    </tr>\n",
       "  </thead>\n",
       "  <tbody>\n",
       "    <tr>\n",
       "      <th>0</th>\n",
       "      <td>tt0149295</td>\n",
       "      <td>movie</td>\n",
       "      <td>Il trionfo di Maciste</td>\n",
       "      <td>Il trionfo di Maciste</td>\n",
       "      <td>0</td>\n",
       "      <td>1961</td>\n",
       "      <td>\\N</td>\n",
       "      <td>88.0</td>\n",
       "      <td>[Action, Adventure, Drama]</td>\n",
       "      <td>4.2</td>\n",
       "      <td>...</td>\n",
       "      <td>0</td>\n",
       "      <td>0</td>\n",
       "      <td>0</td>\n",
       "      <td>0</td>\n",
       "      <td>0</td>\n",
       "      <td>0</td>\n",
       "      <td>0</td>\n",
       "      <td>0</td>\n",
       "      <td>0</td>\n",
       "      <td>0</td>\n",
       "    </tr>\n",
       "    <tr>\n",
       "      <th>1</th>\n",
       "      <td>tt0743141</td>\n",
       "      <td>tvEpisode</td>\n",
       "      <td>The Jed Polke Story</td>\n",
       "      <td>The Jed Polke Story</td>\n",
       "      <td>0</td>\n",
       "      <td>1961</td>\n",
       "      <td>\\N</td>\n",
       "      <td>60.0</td>\n",
       "      <td>[Western]</td>\n",
       "      <td>8.2</td>\n",
       "      <td>...</td>\n",
       "      <td>0</td>\n",
       "      <td>0</td>\n",
       "      <td>0</td>\n",
       "      <td>0</td>\n",
       "      <td>0</td>\n",
       "      <td>0</td>\n",
       "      <td>0</td>\n",
       "      <td>0</td>\n",
       "      <td>0</td>\n",
       "      <td>1</td>\n",
       "    </tr>\n",
       "    <tr>\n",
       "      <th>2</th>\n",
       "      <td>tt0056099</td>\n",
       "      <td>movie</td>\n",
       "      <td>Information Received</td>\n",
       "      <td>Information Received</td>\n",
       "      <td>0</td>\n",
       "      <td>1961</td>\n",
       "      <td>\\N</td>\n",
       "      <td>77.0</td>\n",
       "      <td>[Crime]</td>\n",
       "      <td>5.8</td>\n",
       "      <td>...</td>\n",
       "      <td>0</td>\n",
       "      <td>0</td>\n",
       "      <td>0</td>\n",
       "      <td>0</td>\n",
       "      <td>0</td>\n",
       "      <td>0</td>\n",
       "      <td>0</td>\n",
       "      <td>0</td>\n",
       "      <td>0</td>\n",
       "      <td>0</td>\n",
       "    </tr>\n",
       "    <tr>\n",
       "      <th>3</th>\n",
       "      <td>tt0274612</td>\n",
       "      <td>movie</td>\n",
       "      <td>The Red Vase</td>\n",
       "      <td>Kizil vazo</td>\n",
       "      <td>0</td>\n",
       "      <td>1961</td>\n",
       "      <td>\\N</td>\n",
       "      <td>97.0</td>\n",
       "      <td>[Drama]</td>\n",
       "      <td>5.9</td>\n",
       "      <td>...</td>\n",
       "      <td>0</td>\n",
       "      <td>0</td>\n",
       "      <td>0</td>\n",
       "      <td>0</td>\n",
       "      <td>0</td>\n",
       "      <td>0</td>\n",
       "      <td>0</td>\n",
       "      <td>0</td>\n",
       "      <td>0</td>\n",
       "      <td>0</td>\n",
       "    </tr>\n",
       "    <tr>\n",
       "      <th>4</th>\n",
       "      <td>tt0743144</td>\n",
       "      <td>tvEpisode</td>\n",
       "      <td>The Jenna Douglas Story</td>\n",
       "      <td>The Jenna Douglas Story</td>\n",
       "      <td>0</td>\n",
       "      <td>1961</td>\n",
       "      <td>\\N</td>\n",
       "      <td>60.0</td>\n",
       "      <td>[Western]</td>\n",
       "      <td>7.7</td>\n",
       "      <td>...</td>\n",
       "      <td>0</td>\n",
       "      <td>0</td>\n",
       "      <td>0</td>\n",
       "      <td>0</td>\n",
       "      <td>0</td>\n",
       "      <td>0</td>\n",
       "      <td>0</td>\n",
       "      <td>0</td>\n",
       "      <td>0</td>\n",
       "      <td>1</td>\n",
       "    </tr>\n",
       "    <tr>\n",
       "      <th>...</th>\n",
       "      <td>...</td>\n",
       "      <td>...</td>\n",
       "      <td>...</td>\n",
       "      <td>...</td>\n",
       "      <td>...</td>\n",
       "      <td>...</td>\n",
       "      <td>...</td>\n",
       "      <td>...</td>\n",
       "      <td>...</td>\n",
       "      <td>...</td>\n",
       "      <td>...</td>\n",
       "      <td>...</td>\n",
       "      <td>...</td>\n",
       "      <td>...</td>\n",
       "      <td>...</td>\n",
       "      <td>...</td>\n",
       "      <td>...</td>\n",
       "      <td>...</td>\n",
       "      <td>...</td>\n",
       "      <td>...</td>\n",
       "      <td>...</td>\n",
       "    </tr>\n",
       "    <tr>\n",
       "      <th>203516</th>\n",
       "      <td>tt7159616</td>\n",
       "      <td>movie</td>\n",
       "      <td>Puppy Swap Love Unleashed</td>\n",
       "      <td>Puppy Swap Love Unleashed</td>\n",
       "      <td>0</td>\n",
       "      <td>2019</td>\n",
       "      <td>\\N</td>\n",
       "      <td>90.0</td>\n",
       "      <td>[Family]</td>\n",
       "      <td>5.8</td>\n",
       "      <td>...</td>\n",
       "      <td>0</td>\n",
       "      <td>0</td>\n",
       "      <td>0</td>\n",
       "      <td>0</td>\n",
       "      <td>0</td>\n",
       "      <td>0</td>\n",
       "      <td>0</td>\n",
       "      <td>0</td>\n",
       "      <td>0</td>\n",
       "      <td>0</td>\n",
       "    </tr>\n",
       "    <tr>\n",
       "      <th>203517</th>\n",
       "      <td>tt7158904</td>\n",
       "      <td>movie</td>\n",
       "      <td>Blood Myth</td>\n",
       "      <td>Blood Myth</td>\n",
       "      <td>0</td>\n",
       "      <td>2019</td>\n",
       "      <td>\\N</td>\n",
       "      <td>81.0</td>\n",
       "      <td>[Horror]</td>\n",
       "      <td>3.0</td>\n",
       "      <td>...</td>\n",
       "      <td>0</td>\n",
       "      <td>0</td>\n",
       "      <td>0</td>\n",
       "      <td>0</td>\n",
       "      <td>0</td>\n",
       "      <td>0</td>\n",
       "      <td>0</td>\n",
       "      <td>0</td>\n",
       "      <td>0</td>\n",
       "      <td>0</td>\n",
       "    </tr>\n",
       "    <tr>\n",
       "      <th>203518</th>\n",
       "      <td>tt7156898</td>\n",
       "      <td>movie</td>\n",
       "      <td>County Lines</td>\n",
       "      <td>County Lines</td>\n",
       "      <td>0</td>\n",
       "      <td>2019</td>\n",
       "      <td>\\N</td>\n",
       "      <td>90.0</td>\n",
       "      <td>[Drama]</td>\n",
       "      <td>8.4</td>\n",
       "      <td>...</td>\n",
       "      <td>0</td>\n",
       "      <td>0</td>\n",
       "      <td>0</td>\n",
       "      <td>0</td>\n",
       "      <td>0</td>\n",
       "      <td>0</td>\n",
       "      <td>0</td>\n",
       "      <td>0</td>\n",
       "      <td>0</td>\n",
       "      <td>0</td>\n",
       "    </tr>\n",
       "    <tr>\n",
       "      <th>203519</th>\n",
       "      <td>tt7216068</td>\n",
       "      <td>movie</td>\n",
       "      <td>See You Soon</td>\n",
       "      <td>See You Soon</td>\n",
       "      <td>0</td>\n",
       "      <td>2019</td>\n",
       "      <td>\\N</td>\n",
       "      <td>107.0</td>\n",
       "      <td>[Drama, Romance]</td>\n",
       "      <td>4.7</td>\n",
       "      <td>...</td>\n",
       "      <td>0</td>\n",
       "      <td>0</td>\n",
       "      <td>1</td>\n",
       "      <td>0</td>\n",
       "      <td>0</td>\n",
       "      <td>0</td>\n",
       "      <td>0</td>\n",
       "      <td>0</td>\n",
       "      <td>0</td>\n",
       "      <td>0</td>\n",
       "    </tr>\n",
       "    <tr>\n",
       "      <th>203520</th>\n",
       "      <td>tt9916160</td>\n",
       "      <td>movie</td>\n",
       "      <td>Drømmeland</td>\n",
       "      <td>Drømmeland</td>\n",
       "      <td>0</td>\n",
       "      <td>2019</td>\n",
       "      <td>\\N</td>\n",
       "      <td>72.0</td>\n",
       "      <td>[Documentary]</td>\n",
       "      <td>6.5</td>\n",
       "      <td>...</td>\n",
       "      <td>0</td>\n",
       "      <td>0</td>\n",
       "      <td>0</td>\n",
       "      <td>0</td>\n",
       "      <td>0</td>\n",
       "      <td>0</td>\n",
       "      <td>0</td>\n",
       "      <td>0</td>\n",
       "      <td>0</td>\n",
       "      <td>0</td>\n",
       "    </tr>\n",
       "  </tbody>\n",
       "</table>\n",
       "<p>203521 rows × 51 columns</p>\n",
       "</div>"
      ],
      "text/plain": [
       "           tconst  titleType               primaryTitle  \\\n",
       "0       tt0149295      movie      Il trionfo di Maciste   \n",
       "1       tt0743141  tvEpisode        The Jed Polke Story   \n",
       "2       tt0056099      movie       Information Received   \n",
       "3       tt0274612      movie               The Red Vase   \n",
       "4       tt0743144  tvEpisode    The Jenna Douglas Story   \n",
       "...           ...        ...                        ...   \n",
       "203516  tt7159616      movie  Puppy Swap Love Unleashed   \n",
       "203517  tt7158904      movie                 Blood Myth   \n",
       "203518  tt7156898      movie               County Lines   \n",
       "203519  tt7216068      movie               See You Soon   \n",
       "203520  tt9916160      movie                 Drømmeland   \n",
       "\n",
       "                    originalTitle  isAdult  startYear endYear  runtimeMinutes  \\\n",
       "0           Il trionfo di Maciste        0       1961      \\N            88.0   \n",
       "1             The Jed Polke Story        0       1961      \\N            60.0   \n",
       "2            Information Received        0       1961      \\N            77.0   \n",
       "3                      Kizil vazo        0       1961      \\N            97.0   \n",
       "4         The Jenna Douglas Story        0       1961      \\N            60.0   \n",
       "...                           ...      ...        ...     ...             ...   \n",
       "203516  Puppy Swap Love Unleashed        0       2019      \\N            90.0   \n",
       "203517                 Blood Myth        0       2019      \\N            81.0   \n",
       "203518               County Lines        0       2019      \\N            90.0   \n",
       "203519               See You Soon        0       2019      \\N           107.0   \n",
       "203520                 Drømmeland        0       2019      \\N            72.0   \n",
       "\n",
       "                            genres  averageRating  ...  News Reality-TV  \\\n",
       "0       [Action, Adventure, Drama]            4.2  ...     0          0   \n",
       "1                        [Western]            8.2  ...     0          0   \n",
       "2                          [Crime]            5.8  ...     0          0   \n",
       "3                          [Drama]            5.9  ...     0          0   \n",
       "4                        [Western]            7.7  ...     0          0   \n",
       "...                            ...            ...  ...   ...        ...   \n",
       "203516                    [Family]            5.8  ...     0          0   \n",
       "203517                    [Horror]            3.0  ...     0          0   \n",
       "203518                     [Drama]            8.4  ...     0          0   \n",
       "203519            [Drama, Romance]            4.7  ...     0          0   \n",
       "203520               [Documentary]            6.5  ...     0          0   \n",
       "\n",
       "       Romance  Sci-Fi  Short  Sport  Talk-Show  Thriller  War  Western  \n",
       "0            0       0      0      0          0         0    0        0  \n",
       "1            0       0      0      0          0         0    0        1  \n",
       "2            0       0      0      0          0         0    0        0  \n",
       "3            0       0      0      0          0         0    0        0  \n",
       "4            0       0      0      0          0         0    0        1  \n",
       "...        ...     ...    ...    ...        ...       ...  ...      ...  \n",
       "203516       0       0      0      0          0         0    0        0  \n",
       "203517       0       0      0      0          0         0    0        0  \n",
       "203518       0       0      0      0          0         0    0        0  \n",
       "203519       1       0      0      0          0         0    0        0  \n",
       "203520       0       0      0      0          0         0    0        0  \n",
       "\n",
       "[203521 rows x 51 columns]"
      ]
     },
     "execution_count": 3,
     "metadata": {},
     "output_type": "execute_result"
    }
   ],
   "source": [
    "import pickle as pk\n",
    "import numpy as np\n",
    "import pandas as pd\n",
    "with open('/home/hsien/110/sta/final_pkfile/imdb_df_genres_title_cgname.pk','rb') as f:\n",
    "    movies = pk.load(f)\n",
    "movies"
   ]
  },
  {
   "cell_type": "code",
   "execution_count": 5,
   "id": "609e98d7",
   "metadata": {},
   "outputs": [
    {
     "data": {
      "text/html": [
       "<div>\n",
       "<style scoped>\n",
       "    .dataframe tbody tr th:only-of-type {\n",
       "        vertical-align: middle;\n",
       "    }\n",
       "\n",
       "    .dataframe tbody tr th {\n",
       "        vertical-align: top;\n",
       "    }\n",
       "\n",
       "    .dataframe thead th {\n",
       "        text-align: right;\n",
       "    }\n",
       "</style>\n",
       "<table border=\"1\" class=\"dataframe\">\n",
       "  <thead>\n",
       "    <tr style=\"text-align: right;\">\n",
       "      <th></th>\n",
       "      <th>bertdim1</th>\n",
       "      <th>bertdim2</th>\n",
       "      <th>bertdim3</th>\n",
       "      <th>bertdim4</th>\n",
       "      <th>bertdim5</th>\n",
       "      <th>bertdim6</th>\n",
       "      <th>bertdim7</th>\n",
       "      <th>bertdim8</th>\n",
       "      <th>bertdim9</th>\n",
       "      <th>bertdim10</th>\n",
       "      <th>...</th>\n",
       "      <th>bertdim759</th>\n",
       "      <th>bertdim760</th>\n",
       "      <th>bertdim761</th>\n",
       "      <th>bertdim762</th>\n",
       "      <th>bertdim763</th>\n",
       "      <th>bertdim764</th>\n",
       "      <th>bertdim765</th>\n",
       "      <th>bertdim766</th>\n",
       "      <th>bertdim767</th>\n",
       "      <th>bertdim768</th>\n",
       "    </tr>\n",
       "  </thead>\n",
       "  <tbody>\n",
       "    <tr>\n",
       "      <th>0</th>\n",
       "      <td>-0.808446</td>\n",
       "      <td>0.531357</td>\n",
       "      <td>0.999978</td>\n",
       "      <td>-0.997249</td>\n",
       "      <td>0.976660</td>\n",
       "      <td>0.736699</td>\n",
       "      <td>0.991883</td>\n",
       "      <td>-0.946218</td>\n",
       "      <td>-0.982858</td>\n",
       "      <td>-0.718163</td>\n",
       "      <td>...</td>\n",
       "      <td>0.816118</td>\n",
       "      <td>-0.137228</td>\n",
       "      <td>0.208553</td>\n",
       "      <td>-0.397403</td>\n",
       "      <td>-0.284671</td>\n",
       "      <td>-0.074878</td>\n",
       "      <td>-0.422092</td>\n",
       "      <td>0.999994</td>\n",
       "      <td>-0.119906</td>\n",
       "      <td>0.994673</td>\n",
       "    </tr>\n",
       "    <tr>\n",
       "      <th>1</th>\n",
       "      <td>-0.801082</td>\n",
       "      <td>0.600533</td>\n",
       "      <td>0.999987</td>\n",
       "      <td>-0.997582</td>\n",
       "      <td>0.981994</td>\n",
       "      <td>0.743360</td>\n",
       "      <td>0.987109</td>\n",
       "      <td>-0.899205</td>\n",
       "      <td>-0.991019</td>\n",
       "      <td>-0.611979</td>\n",
       "      <td>...</td>\n",
       "      <td>0.834444</td>\n",
       "      <td>0.298309</td>\n",
       "      <td>-0.387350</td>\n",
       "      <td>-0.168412</td>\n",
       "      <td>0.090523</td>\n",
       "      <td>0.054783</td>\n",
       "      <td>-0.463617</td>\n",
       "      <td>0.999997</td>\n",
       "      <td>0.134567</td>\n",
       "      <td>0.997376</td>\n",
       "    </tr>\n",
       "    <tr>\n",
       "      <th>2</th>\n",
       "      <td>-0.799335</td>\n",
       "      <td>0.539186</td>\n",
       "      <td>0.999974</td>\n",
       "      <td>-0.995560</td>\n",
       "      <td>0.969992</td>\n",
       "      <td>0.332953</td>\n",
       "      <td>0.984201</td>\n",
       "      <td>-0.864574</td>\n",
       "      <td>-0.977825</td>\n",
       "      <td>-0.721972</td>\n",
       "      <td>...</td>\n",
       "      <td>0.854814</td>\n",
       "      <td>0.032401</td>\n",
       "      <td>0.034883</td>\n",
       "      <td>0.108208</td>\n",
       "      <td>0.007342</td>\n",
       "      <td>-0.051844</td>\n",
       "      <td>-0.338245</td>\n",
       "      <td>0.999992</td>\n",
       "      <td>0.464673</td>\n",
       "      <td>0.990535</td>\n",
       "    </tr>\n",
       "    <tr>\n",
       "      <th>3</th>\n",
       "      <td>-0.791939</td>\n",
       "      <td>0.533764</td>\n",
       "      <td>0.999982</td>\n",
       "      <td>-0.994044</td>\n",
       "      <td>0.982556</td>\n",
       "      <td>0.138356</td>\n",
       "      <td>0.984055</td>\n",
       "      <td>-0.778561</td>\n",
       "      <td>-0.970028</td>\n",
       "      <td>-0.755540</td>\n",
       "      <td>...</td>\n",
       "      <td>0.814216</td>\n",
       "      <td>0.088590</td>\n",
       "      <td>-0.279346</td>\n",
       "      <td>0.293751</td>\n",
       "      <td>-0.019581</td>\n",
       "      <td>0.437237</td>\n",
       "      <td>-0.456628</td>\n",
       "      <td>0.999996</td>\n",
       "      <td>0.661209</td>\n",
       "      <td>0.989308</td>\n",
       "    </tr>\n",
       "    <tr>\n",
       "      <th>4</th>\n",
       "      <td>-0.794213</td>\n",
       "      <td>0.590708</td>\n",
       "      <td>0.999986</td>\n",
       "      <td>-0.997450</td>\n",
       "      <td>0.983491</td>\n",
       "      <td>0.744515</td>\n",
       "      <td>0.989851</td>\n",
       "      <td>-0.892761</td>\n",
       "      <td>-0.991016</td>\n",
       "      <td>-0.663410</td>\n",
       "      <td>...</td>\n",
       "      <td>0.850816</td>\n",
       "      <td>0.343397</td>\n",
       "      <td>-0.252299</td>\n",
       "      <td>-0.015784</td>\n",
       "      <td>0.104728</td>\n",
       "      <td>0.055120</td>\n",
       "      <td>-0.494890</td>\n",
       "      <td>0.999997</td>\n",
       "      <td>0.094556</td>\n",
       "      <td>0.996966</td>\n",
       "    </tr>\n",
       "    <tr>\n",
       "      <th>...</th>\n",
       "      <td>...</td>\n",
       "      <td>...</td>\n",
       "      <td>...</td>\n",
       "      <td>...</td>\n",
       "      <td>...</td>\n",
       "      <td>...</td>\n",
       "      <td>...</td>\n",
       "      <td>...</td>\n",
       "      <td>...</td>\n",
       "      <td>...</td>\n",
       "      <td>...</td>\n",
       "      <td>...</td>\n",
       "      <td>...</td>\n",
       "      <td>...</td>\n",
       "      <td>...</td>\n",
       "      <td>...</td>\n",
       "      <td>...</td>\n",
       "      <td>...</td>\n",
       "      <td>...</td>\n",
       "      <td>...</td>\n",
       "      <td>...</td>\n",
       "    </tr>\n",
       "    <tr>\n",
       "      <th>203516</th>\n",
       "      <td>-0.829577</td>\n",
       "      <td>0.614411</td>\n",
       "      <td>0.999984</td>\n",
       "      <td>-0.997057</td>\n",
       "      <td>0.972475</td>\n",
       "      <td>0.645951</td>\n",
       "      <td>0.996290</td>\n",
       "      <td>-0.871867</td>\n",
       "      <td>-0.990296</td>\n",
       "      <td>-0.761941</td>\n",
       "      <td>...</td>\n",
       "      <td>0.917815</td>\n",
       "      <td>0.122077</td>\n",
       "      <td>0.294425</td>\n",
       "      <td>0.034675</td>\n",
       "      <td>0.034758</td>\n",
       "      <td>-0.002479</td>\n",
       "      <td>-0.384835</td>\n",
       "      <td>0.999995</td>\n",
       "      <td>0.058297</td>\n",
       "      <td>0.995574</td>\n",
       "    </tr>\n",
       "    <tr>\n",
       "      <th>203517</th>\n",
       "      <td>-0.705849</td>\n",
       "      <td>0.484358</td>\n",
       "      <td>0.999938</td>\n",
       "      <td>-0.996463</td>\n",
       "      <td>0.967698</td>\n",
       "      <td>0.891910</td>\n",
       "      <td>0.986233</td>\n",
       "      <td>-0.986882</td>\n",
       "      <td>-0.978663</td>\n",
       "      <td>-0.607660</td>\n",
       "      <td>...</td>\n",
       "      <td>0.706264</td>\n",
       "      <td>-0.206130</td>\n",
       "      <td>0.631617</td>\n",
       "      <td>-0.528963</td>\n",
       "      <td>-0.414147</td>\n",
       "      <td>-0.414602</td>\n",
       "      <td>-0.323906</td>\n",
       "      <td>0.999985</td>\n",
       "      <td>-0.568291</td>\n",
       "      <td>0.995338</td>\n",
       "    </tr>\n",
       "    <tr>\n",
       "      <th>203518</th>\n",
       "      <td>-0.816883</td>\n",
       "      <td>0.569761</td>\n",
       "      <td>0.999960</td>\n",
       "      <td>-0.994995</td>\n",
       "      <td>0.973453</td>\n",
       "      <td>0.752618</td>\n",
       "      <td>0.983180</td>\n",
       "      <td>-0.923110</td>\n",
       "      <td>-0.989151</td>\n",
       "      <td>-0.746955</td>\n",
       "      <td>...</td>\n",
       "      <td>0.901440</td>\n",
       "      <td>0.038414</td>\n",
       "      <td>0.048621</td>\n",
       "      <td>-0.400591</td>\n",
       "      <td>0.182601</td>\n",
       "      <td>0.135849</td>\n",
       "      <td>-0.447408</td>\n",
       "      <td>0.999987</td>\n",
       "      <td>-0.158210</td>\n",
       "      <td>0.992613</td>\n",
       "    </tr>\n",
       "    <tr>\n",
       "      <th>203519</th>\n",
       "      <td>-0.807530</td>\n",
       "      <td>0.520048</td>\n",
       "      <td>0.999977</td>\n",
       "      <td>-0.997869</td>\n",
       "      <td>0.978094</td>\n",
       "      <td>0.890757</td>\n",
       "      <td>0.993739</td>\n",
       "      <td>-0.967993</td>\n",
       "      <td>-0.992112</td>\n",
       "      <td>-0.731037</td>\n",
       "      <td>...</td>\n",
       "      <td>0.850995</td>\n",
       "      <td>-0.126043</td>\n",
       "      <td>0.250805</td>\n",
       "      <td>-0.217400</td>\n",
       "      <td>-0.156514</td>\n",
       "      <td>-0.238235</td>\n",
       "      <td>-0.345735</td>\n",
       "      <td>0.999994</td>\n",
       "      <td>-0.366782</td>\n",
       "      <td>0.997008</td>\n",
       "    </tr>\n",
       "    <tr>\n",
       "      <th>203520</th>\n",
       "      <td>-0.640096</td>\n",
       "      <td>0.329986</td>\n",
       "      <td>0.999869</td>\n",
       "      <td>-0.989973</td>\n",
       "      <td>0.951135</td>\n",
       "      <td>0.870326</td>\n",
       "      <td>0.946751</td>\n",
       "      <td>-0.988864</td>\n",
       "      <td>-0.971119</td>\n",
       "      <td>-0.630503</td>\n",
       "      <td>...</td>\n",
       "      <td>0.820236</td>\n",
       "      <td>-0.019418</td>\n",
       "      <td>0.457172</td>\n",
       "      <td>-0.379136</td>\n",
       "      <td>-0.112478</td>\n",
       "      <td>-0.243474</td>\n",
       "      <td>-0.179364</td>\n",
       "      <td>0.999974</td>\n",
       "      <td>-0.337644</td>\n",
       "      <td>0.989001</td>\n",
       "    </tr>\n",
       "  </tbody>\n",
       "</table>\n",
       "<p>203521 rows × 768 columns</p>\n",
       "</div>"
      ],
      "text/plain": [
       "        bertdim1  bertdim2  bertdim3  bertdim4  bertdim5  bertdim6  bertdim7  \\\n",
       "0      -0.808446  0.531357  0.999978 -0.997249  0.976660  0.736699  0.991883   \n",
       "1      -0.801082  0.600533  0.999987 -0.997582  0.981994  0.743360  0.987109   \n",
       "2      -0.799335  0.539186  0.999974 -0.995560  0.969992  0.332953  0.984201   \n",
       "3      -0.791939  0.533764  0.999982 -0.994044  0.982556  0.138356  0.984055   \n",
       "4      -0.794213  0.590708  0.999986 -0.997450  0.983491  0.744515  0.989851   \n",
       "...          ...       ...       ...       ...       ...       ...       ...   \n",
       "203516 -0.829577  0.614411  0.999984 -0.997057  0.972475  0.645951  0.996290   \n",
       "203517 -0.705849  0.484358  0.999938 -0.996463  0.967698  0.891910  0.986233   \n",
       "203518 -0.816883  0.569761  0.999960 -0.994995  0.973453  0.752618  0.983180   \n",
       "203519 -0.807530  0.520048  0.999977 -0.997869  0.978094  0.890757  0.993739   \n",
       "203520 -0.640096  0.329986  0.999869 -0.989973  0.951135  0.870326  0.946751   \n",
       "\n",
       "        bertdim8  bertdim9  bertdim10  ...  bertdim759  bertdim760  \\\n",
       "0      -0.946218 -0.982858  -0.718163  ...    0.816118   -0.137228   \n",
       "1      -0.899205 -0.991019  -0.611979  ...    0.834444    0.298309   \n",
       "2      -0.864574 -0.977825  -0.721972  ...    0.854814    0.032401   \n",
       "3      -0.778561 -0.970028  -0.755540  ...    0.814216    0.088590   \n",
       "4      -0.892761 -0.991016  -0.663410  ...    0.850816    0.343397   \n",
       "...          ...       ...        ...  ...         ...         ...   \n",
       "203516 -0.871867 -0.990296  -0.761941  ...    0.917815    0.122077   \n",
       "203517 -0.986882 -0.978663  -0.607660  ...    0.706264   -0.206130   \n",
       "203518 -0.923110 -0.989151  -0.746955  ...    0.901440    0.038414   \n",
       "203519 -0.967993 -0.992112  -0.731037  ...    0.850995   -0.126043   \n",
       "203520 -0.988864 -0.971119  -0.630503  ...    0.820236   -0.019418   \n",
       "\n",
       "        bertdim761  bertdim762  bertdim763  bertdim764  bertdim765  \\\n",
       "0         0.208553   -0.397403   -0.284671   -0.074878   -0.422092   \n",
       "1        -0.387350   -0.168412    0.090523    0.054783   -0.463617   \n",
       "2         0.034883    0.108208    0.007342   -0.051844   -0.338245   \n",
       "3        -0.279346    0.293751   -0.019581    0.437237   -0.456628   \n",
       "4        -0.252299   -0.015784    0.104728    0.055120   -0.494890   \n",
       "...            ...         ...         ...         ...         ...   \n",
       "203516    0.294425    0.034675    0.034758   -0.002479   -0.384835   \n",
       "203517    0.631617   -0.528963   -0.414147   -0.414602   -0.323906   \n",
       "203518    0.048621   -0.400591    0.182601    0.135849   -0.447408   \n",
       "203519    0.250805   -0.217400   -0.156514   -0.238235   -0.345735   \n",
       "203520    0.457172   -0.379136   -0.112478   -0.243474   -0.179364   \n",
       "\n",
       "        bertdim766  bertdim767  bertdim768  \n",
       "0         0.999994   -0.119906    0.994673  \n",
       "1         0.999997    0.134567    0.997376  \n",
       "2         0.999992    0.464673    0.990535  \n",
       "3         0.999996    0.661209    0.989308  \n",
       "4         0.999997    0.094556    0.996966  \n",
       "...            ...         ...         ...  \n",
       "203516    0.999995    0.058297    0.995574  \n",
       "203517    0.999985   -0.568291    0.995338  \n",
       "203518    0.999987   -0.158210    0.992613  \n",
       "203519    0.999994   -0.366782    0.997008  \n",
       "203520    0.999974   -0.337644    0.989001  \n",
       "\n",
       "[203521 rows x 768 columns]"
      ]
     },
     "execution_count": 5,
     "metadata": {},
     "output_type": "execute_result"
    }
   ],
   "source": [
    "from transformers import AutoTokenizer, AutoModel\n",
    "tokenizer = AutoTokenizer.from_pretrained(\"bert-base-cased\")\n",
    "model = AutoModel.from_pretrained(\"bert-base-cased\")\n",
    "\n",
    "names = movies['primaryTitle'].tolist()\n",
    "result = np.zeros((len(names),768))\n",
    "for i in range(len(names)):\n",
    "    inputs = tokenizer(names[i], return_tensors=\"pt\")\n",
    "    outputs = model(**inputs)\n",
    "    result[i] = outputs[1].detach().numpy()\n",
    "    if i % 10000 == 0:\n",
    "        print(\"Progress: %d / %d\"%(i,(len(names))))\n",
    "df_bert = pd.DataFrame(result,columns = ['bertdim%d'%i for i in range(1,769)])\n",
    "df_bert"
   ]
  },
  {
   "cell_type": "code",
   "execution_count": 6,
   "id": "389d1bbc",
   "metadata": {},
   "outputs": [],
   "source": [
    "with open('model/df_bert.pk','wb+') as f:\n",
    "    pk.dump(df_bert,f)"
   ]
  },
  {
   "cell_type": "code",
   "execution_count": 7,
   "id": "2e52dc16",
   "metadata": {},
   "outputs": [],
   "source": [
    "with open('model/df_bert.pk','rb') as f:\n",
    "    df_bert = pk.load(f)"
   ]
  },
  {
   "cell_type": "markdown",
   "id": "3cb193ba-df82-4139-9596-39fedbf5316d",
   "metadata": {},
   "source": [
    "#### Dimension Reduction"
   ]
  },
  {
   "cell_type": "code",
   "execution_count": 19,
   "id": "e12165b6-df0a-49fa-8b04-61e3980d761b",
   "metadata": {},
   "outputs": [],
   "source": [
    "wtv = Word2Vec.load(\"model/bestw2v_model\")"
   ]
  },
  {
   "cell_type": "code",
   "execution_count": 19,
   "id": "03c2aeb1-5cc5-474b-be71-650722409383",
   "metadata": {},
   "outputs": [],
   "source": [
    "namesinwtv = list(wtv.wv.key_to_index.keys())\n",
    "vecs = np.zeros((len(namesinwtv),300))\n",
    "for i,j in enumerate(namesinwtv):\n",
    "    vecs[i] = wtv.wv[j]\n",
    "df_vecs = pd.DataFrame(data=vecs,columns=['actdim%d'%(k+1) for k in range(300)])\n",
    "df_vecs['nid'] = namesinwtv"
   ]
  },
  {
   "cell_type": "code",
   "execution_count": 36,
   "id": "fd364581-d9d9-4a74-a833-0d657b787980",
   "metadata": {},
   "outputs": [],
   "source": [
    "nid = df_name['nconst']\n",
    "names = df_name['primaryName']\n",
    "zip_iterator = zip(nid, names)\n",
    "namedict = dict(zip_iterator)\n",
    "def trygetname(i):\n",
    "    try:\n",
    "        return namedict[i]\n",
    "    except:\n",
    "        return get_name(i)\n",
    "df_vecs['name'] = [trygetname(i) for i in df_vecs['nid']]"
   ]
  },
  {
   "cell_type": "code",
   "execution_count": 37,
   "id": "1fadfc0a-75ac-4c35-8e64-e088934414d8",
   "metadata": {},
   "outputs": [
    {
     "data": {
      "text/html": [
       "<div>\n",
       "<style scoped>\n",
       "    .dataframe tbody tr th:only-of-type {\n",
       "        vertical-align: middle;\n",
       "    }\n",
       "\n",
       "    .dataframe tbody tr th {\n",
       "        vertical-align: top;\n",
       "    }\n",
       "\n",
       "    .dataframe thead th {\n",
       "        text-align: right;\n",
       "    }\n",
       "</style>\n",
       "<table border=\"1\" class=\"dataframe\">\n",
       "  <thead>\n",
       "    <tr style=\"text-align: right;\">\n",
       "      <th></th>\n",
       "      <th>actdim1</th>\n",
       "      <th>actdim2</th>\n",
       "      <th>actdim3</th>\n",
       "      <th>actdim4</th>\n",
       "      <th>actdim5</th>\n",
       "      <th>actdim6</th>\n",
       "      <th>actdim7</th>\n",
       "      <th>actdim8</th>\n",
       "      <th>actdim9</th>\n",
       "      <th>actdim10</th>\n",
       "      <th>...</th>\n",
       "      <th>actdim293</th>\n",
       "      <th>actdim294</th>\n",
       "      <th>actdim295</th>\n",
       "      <th>actdim296</th>\n",
       "      <th>actdim297</th>\n",
       "      <th>actdim298</th>\n",
       "      <th>actdim299</th>\n",
       "      <th>actdim300</th>\n",
       "      <th>nid</th>\n",
       "      <th>name</th>\n",
       "    </tr>\n",
       "  </thead>\n",
       "  <tbody>\n",
       "    <tr>\n",
       "      <th>0</th>\n",
       "      <td>0.3934</td>\n",
       "      <td>-0.7246</td>\n",
       "      <td>0.3937</td>\n",
       "      <td>-0.3019</td>\n",
       "      <td>0.1518</td>\n",
       "      <td>-0.1869</td>\n",
       "      <td>-0.5549</td>\n",
       "      <td>-1.3651</td>\n",
       "      <td>0.3845</td>\n",
       "      <td>0.7516</td>\n",
       "      <td>...</td>\n",
       "      <td>0.2435</td>\n",
       "      <td>0.4268</td>\n",
       "      <td>-0.4521</td>\n",
       "      <td>0.4413</td>\n",
       "      <td>0.1323</td>\n",
       "      <td>0.2416</td>\n",
       "      <td>0.1439</td>\n",
       "      <td>-0.3189</td>\n",
       "      <td>nm10120013</td>\n",
       "      <td>Sameera Sherief</td>\n",
       "    </tr>\n",
       "    <tr>\n",
       "      <th>1</th>\n",
       "      <td>-0.1794</td>\n",
       "      <td>0.1344</td>\n",
       "      <td>0.9647</td>\n",
       "      <td>-1.4697</td>\n",
       "      <td>-0.0592</td>\n",
       "      <td>0.4343</td>\n",
       "      <td>1.0161</td>\n",
       "      <td>-0.3960</td>\n",
       "      <td>0.7794</td>\n",
       "      <td>1.3940</td>\n",
       "      <td>...</td>\n",
       "      <td>-1.9479</td>\n",
       "      <td>-1.3254</td>\n",
       "      <td>1.1152</td>\n",
       "      <td>1.0347</td>\n",
       "      <td>0.5053</td>\n",
       "      <td>-1.3992</td>\n",
       "      <td>-0.4574</td>\n",
       "      <td>-1.1165</td>\n",
       "      <td>nm0151534</td>\n",
       "      <td>Sudha Chandran</td>\n",
       "    </tr>\n",
       "    <tr>\n",
       "      <th>2</th>\n",
       "      <td>0.0505</td>\n",
       "      <td>-1.6816</td>\n",
       "      <td>0.3232</td>\n",
       "      <td>0.1675</td>\n",
       "      <td>-1.7351</td>\n",
       "      <td>1.1017</td>\n",
       "      <td>0.8716</td>\n",
       "      <td>-0.1145</td>\n",
       "      <td>-0.8166</td>\n",
       "      <td>1.1188</td>\n",
       "      <td>...</td>\n",
       "      <td>-0.4929</td>\n",
       "      <td>0.6707</td>\n",
       "      <td>-1.7575</td>\n",
       "      <td>-2.2117</td>\n",
       "      <td>-0.8855</td>\n",
       "      <td>-2.3399</td>\n",
       "      <td>0.9864</td>\n",
       "      <td>0.7962</td>\n",
       "      <td>nm0192504</td>\n",
       "      <td>Francisco Cuoco</td>\n",
       "    </tr>\n",
       "    <tr>\n",
       "      <th>3</th>\n",
       "      <td>-0.2572</td>\n",
       "      <td>-2.0932</td>\n",
       "      <td>-0.6245</td>\n",
       "      <td>1.0803</td>\n",
       "      <td>-2.3154</td>\n",
       "      <td>0.0648</td>\n",
       "      <td>-0.4783</td>\n",
       "      <td>-0.2144</td>\n",
       "      <td>-0.8842</td>\n",
       "      <td>1.9520</td>\n",
       "      <td>...</td>\n",
       "      <td>-1.8980</td>\n",
       "      <td>-1.5371</td>\n",
       "      <td>0.2474</td>\n",
       "      <td>-1.7884</td>\n",
       "      <td>0.1307</td>\n",
       "      <td>0.5681</td>\n",
       "      <td>-0.5557</td>\n",
       "      <td>-1.2468</td>\n",
       "      <td>nm0555829</td>\n",
       "      <td>Claudio Marzo</td>\n",
       "    </tr>\n",
       "    <tr>\n",
       "      <th>4</th>\n",
       "      <td>0.5877</td>\n",
       "      <td>-0.8777</td>\n",
       "      <td>0.3108</td>\n",
       "      <td>-2.4112</td>\n",
       "      <td>0.3106</td>\n",
       "      <td>0.5756</td>\n",
       "      <td>-1.1145</td>\n",
       "      <td>0.4796</td>\n",
       "      <td>2.3461</td>\n",
       "      <td>0.5509</td>\n",
       "      <td>...</td>\n",
       "      <td>0.8624</td>\n",
       "      <td>0.0961</td>\n",
       "      <td>-0.1326</td>\n",
       "      <td>-0.5098</td>\n",
       "      <td>0.3610</td>\n",
       "      <td>1.0778</td>\n",
       "      <td>-0.0955</td>\n",
       "      <td>0.6426</td>\n",
       "      <td>nm0525123</td>\n",
       "      <td>Luz Stella Luengas</td>\n",
       "    </tr>\n",
       "    <tr>\n",
       "      <th>...</th>\n",
       "      <td>...</td>\n",
       "      <td>...</td>\n",
       "      <td>...</td>\n",
       "      <td>...</td>\n",
       "      <td>...</td>\n",
       "      <td>...</td>\n",
       "      <td>...</td>\n",
       "      <td>...</td>\n",
       "      <td>...</td>\n",
       "      <td>...</td>\n",
       "      <td>...</td>\n",
       "      <td>...</td>\n",
       "      <td>...</td>\n",
       "      <td>...</td>\n",
       "      <td>...</td>\n",
       "      <td>...</td>\n",
       "      <td>...</td>\n",
       "      <td>...</td>\n",
       "      <td>...</td>\n",
       "      <td>...</td>\n",
       "      <td>...</td>\n",
       "    </tr>\n",
       "    <tr>\n",
       "      <th>91260</th>\n",
       "      <td>0.4434</td>\n",
       "      <td>-0.4928</td>\n",
       "      <td>-0.0498</td>\n",
       "      <td>-0.2588</td>\n",
       "      <td>0.0315</td>\n",
       "      <td>-0.0212</td>\n",
       "      <td>-0.1862</td>\n",
       "      <td>0.0042</td>\n",
       "      <td>0.3785</td>\n",
       "      <td>-0.1410</td>\n",
       "      <td>...</td>\n",
       "      <td>-0.3267</td>\n",
       "      <td>0.1852</td>\n",
       "      <td>-0.0269</td>\n",
       "      <td>-0.0515</td>\n",
       "      <td>-0.3199</td>\n",
       "      <td>0.0380</td>\n",
       "      <td>-0.0644</td>\n",
       "      <td>0.1394</td>\n",
       "      <td>nm0604324</td>\n",
       "      <td>Lisa Moretti</td>\n",
       "    </tr>\n",
       "    <tr>\n",
       "      <th>91261</th>\n",
       "      <td>0.2212</td>\n",
       "      <td>-0.3266</td>\n",
       "      <td>-0.1233</td>\n",
       "      <td>-0.1199</td>\n",
       "      <td>-0.2560</td>\n",
       "      <td>0.3973</td>\n",
       "      <td>-0.8988</td>\n",
       "      <td>0.1441</td>\n",
       "      <td>-0.2873</td>\n",
       "      <td>0.0219</td>\n",
       "      <td>...</td>\n",
       "      <td>0.1342</td>\n",
       "      <td>0.0393</td>\n",
       "      <td>0.0930</td>\n",
       "      <td>-0.0046</td>\n",
       "      <td>-0.0910</td>\n",
       "      <td>0.5510</td>\n",
       "      <td>0.1782</td>\n",
       "      <td>-0.2866</td>\n",
       "      <td>nm0642578</td>\n",
       "      <td>Stephen O'Rourke</td>\n",
       "    </tr>\n",
       "    <tr>\n",
       "      <th>91262</th>\n",
       "      <td>0.2308</td>\n",
       "      <td>0.3096</td>\n",
       "      <td>-0.1966</td>\n",
       "      <td>0.2632</td>\n",
       "      <td>-0.2069</td>\n",
       "      <td>0.3617</td>\n",
       "      <td>-0.3134</td>\n",
       "      <td>-0.2818</td>\n",
       "      <td>0.3237</td>\n",
       "      <td>-0.0736</td>\n",
       "      <td>...</td>\n",
       "      <td>-0.1789</td>\n",
       "      <td>0.2465</td>\n",
       "      <td>-0.0773</td>\n",
       "      <td>0.2142</td>\n",
       "      <td>-0.5019</td>\n",
       "      <td>-0.1849</td>\n",
       "      <td>0.4442</td>\n",
       "      <td>0.2305</td>\n",
       "      <td>nm0375437</td>\n",
       "      <td>Trudy Hellier</td>\n",
       "    </tr>\n",
       "    <tr>\n",
       "      <th>91263</th>\n",
       "      <td>-0.2175</td>\n",
       "      <td>0.0410</td>\n",
       "      <td>0.2171</td>\n",
       "      <td>-0.1686</td>\n",
       "      <td>0.4192</td>\n",
       "      <td>0.2869</td>\n",
       "      <td>-0.5363</td>\n",
       "      <td>-0.2605</td>\n",
       "      <td>0.3500</td>\n",
       "      <td>0.1598</td>\n",
       "      <td>...</td>\n",
       "      <td>-0.0130</td>\n",
       "      <td>0.2099</td>\n",
       "      <td>0.0412</td>\n",
       "      <td>0.3006</td>\n",
       "      <td>0.4780</td>\n",
       "      <td>-0.0684</td>\n",
       "      <td>0.3379</td>\n",
       "      <td>0.0928</td>\n",
       "      <td>nm2814032</td>\n",
       "      <td>Mila Montañez</td>\n",
       "    </tr>\n",
       "    <tr>\n",
       "      <th>91264</th>\n",
       "      <td>0.2966</td>\n",
       "      <td>-0.4191</td>\n",
       "      <td>0.1369</td>\n",
       "      <td>-0.1813</td>\n",
       "      <td>0.2236</td>\n",
       "      <td>-0.0378</td>\n",
       "      <td>-0.1197</td>\n",
       "      <td>0.5468</td>\n",
       "      <td>-0.1395</td>\n",
       "      <td>0.2599</td>\n",
       "      <td>...</td>\n",
       "      <td>0.3779</td>\n",
       "      <td>0.5016</td>\n",
       "      <td>-0.0459</td>\n",
       "      <td>0.0731</td>\n",
       "      <td>0.1810</td>\n",
       "      <td>-0.4170</td>\n",
       "      <td>-0.6905</td>\n",
       "      <td>-0.4156</td>\n",
       "      <td>nm4008100</td>\n",
       "      <td>Heida Reed</td>\n",
       "    </tr>\n",
       "  </tbody>\n",
       "</table>\n",
       "<p>91265 rows × 302 columns</p>\n",
       "</div>"
      ],
      "text/plain": [
       "       actdim1  actdim2  actdim3  actdim4  actdim5  actdim6  actdim7  actdim8  \\\n",
       "0       0.3934  -0.7246   0.3937  -0.3019   0.1518  -0.1869  -0.5549  -1.3651   \n",
       "1      -0.1794   0.1344   0.9647  -1.4697  -0.0592   0.4343   1.0161  -0.3960   \n",
       "2       0.0505  -1.6816   0.3232   0.1675  -1.7351   1.1017   0.8716  -0.1145   \n",
       "3      -0.2572  -2.0932  -0.6245   1.0803  -2.3154   0.0648  -0.4783  -0.2144   \n",
       "4       0.5877  -0.8777   0.3108  -2.4112   0.3106   0.5756  -1.1145   0.4796   \n",
       "...        ...      ...      ...      ...      ...      ...      ...      ...   \n",
       "91260   0.4434  -0.4928  -0.0498  -0.2588   0.0315  -0.0212  -0.1862   0.0042   \n",
       "91261   0.2212  -0.3266  -0.1233  -0.1199  -0.2560   0.3973  -0.8988   0.1441   \n",
       "91262   0.2308   0.3096  -0.1966   0.2632  -0.2069   0.3617  -0.3134  -0.2818   \n",
       "91263  -0.2175   0.0410   0.2171  -0.1686   0.4192   0.2869  -0.5363  -0.2605   \n",
       "91264   0.2966  -0.4191   0.1369  -0.1813   0.2236  -0.0378  -0.1197   0.5468   \n",
       "\n",
       "       actdim9  actdim10  ...  actdim293  actdim294  actdim295  actdim296  \\\n",
       "0       0.3845    0.7516  ...     0.2435     0.4268    -0.4521     0.4413   \n",
       "1       0.7794    1.3940  ...    -1.9479    -1.3254     1.1152     1.0347   \n",
       "2      -0.8166    1.1188  ...    -0.4929     0.6707    -1.7575    -2.2117   \n",
       "3      -0.8842    1.9520  ...    -1.8980    -1.5371     0.2474    -1.7884   \n",
       "4       2.3461    0.5509  ...     0.8624     0.0961    -0.1326    -0.5098   \n",
       "...        ...       ...  ...        ...        ...        ...        ...   \n",
       "91260   0.3785   -0.1410  ...    -0.3267     0.1852    -0.0269    -0.0515   \n",
       "91261  -0.2873    0.0219  ...     0.1342     0.0393     0.0930    -0.0046   \n",
       "91262   0.3237   -0.0736  ...    -0.1789     0.2465    -0.0773     0.2142   \n",
       "91263   0.3500    0.1598  ...    -0.0130     0.2099     0.0412     0.3006   \n",
       "91264  -0.1395    0.2599  ...     0.3779     0.5016    -0.0459     0.0731   \n",
       "\n",
       "       actdim297  actdim298  actdim299  actdim300         nid  \\\n",
       "0         0.1323     0.2416     0.1439    -0.3189  nm10120013   \n",
       "1         0.5053    -1.3992    -0.4574    -1.1165   nm0151534   \n",
       "2        -0.8855    -2.3399     0.9864     0.7962   nm0192504   \n",
       "3         0.1307     0.5681    -0.5557    -1.2468   nm0555829   \n",
       "4         0.3610     1.0778    -0.0955     0.6426   nm0525123   \n",
       "...          ...        ...        ...        ...         ...   \n",
       "91260    -0.3199     0.0380    -0.0644     0.1394   nm0604324   \n",
       "91261    -0.0910     0.5510     0.1782    -0.2866   nm0642578   \n",
       "91262    -0.5019    -0.1849     0.4442     0.2305   nm0375437   \n",
       "91263     0.4780    -0.0684     0.3379     0.0928   nm2814032   \n",
       "91264     0.1810    -0.4170    -0.6905    -0.4156   nm4008100   \n",
       "\n",
       "                     name  \n",
       "0         Sameera Sherief  \n",
       "1          Sudha Chandran  \n",
       "2         Francisco Cuoco  \n",
       "3           Claudio Marzo  \n",
       "4      Luz Stella Luengas  \n",
       "...                   ...  \n",
       "91260        Lisa Moretti  \n",
       "91261    Stephen O'Rourke  \n",
       "91262       Trudy Hellier  \n",
       "91263       Mila Montañez  \n",
       "91264          Heida Reed  \n",
       "\n",
       "[91265 rows x 302 columns]"
      ]
     },
     "execution_count": 37,
     "metadata": {},
     "output_type": "execute_result"
    }
   ],
   "source": [
    "df_vecs"
   ]
  },
  {
   "cell_type": "code",
   "execution_count": 2,
   "id": "041bf295-237e-473b-bb8d-884e69db109e",
   "metadata": {},
   "outputs": [],
   "source": [
    "import plotly\n",
    "import plotly.express as px\n",
    "from sklearn.manifold import TSNE"
   ]
  },
  {
   "cell_type": "code",
   "execution_count": null,
   "id": "8fb9d8ef-ec4d-4063-a376-39761f2652a9",
   "metadata": {},
   "outputs": [],
   "source": [
    "np.random.seed(42)\n",
    "seed = np.random.rand(df_vecs.shape[0],2)\n",
    "tsne_cos = TSNE(n_components=2, metric='cosine',n_jobs=-1,init=seed,square_distances=True)\n",
    "dep_tsne_jac= tsne_cos.fit_transform(df_vecs.drop(['nid','name'],axis=1))\n",
    "tsne_cos_df = pd.DataFrame(dep_tsne_cos)\n",
    "tsne_cos_df['actor_name'] = df_vecs['name']"
   ]
  },
  {
   "cell_type": "code",
   "execution_count": null,
   "id": "084005d0-2a93-41bc-a393-576dbff2d43b",
   "metadata": {},
   "outputs": [],
   "source": [
    "with open('model/tsne_cos_df.pk','wb+') as f:\n",
    "    pk.dump(tsne_cos_df,f)"
   ]
  },
  {
   "cell_type": "code",
   "execution_count": 4,
   "id": "ad0aa053-8fa9-42d8-a16f-a595588267aa",
   "metadata": {},
   "outputs": [],
   "source": [
    "with open('model/tsne_cos_df.pk','rb') as f:\n",
    "    tsne_cos_df = pk.load(f)"
   ]
  },
  {
   "cell_type": "code",
   "execution_count": 11,
   "id": "1cc90115-7325-4cb8-abb1-eded980613e1",
   "metadata": {},
   "outputs": [
    {
     "name": "stdout",
     "output_type": "stream",
     "text": [
      "9.789059536512301 1.0701893835130256\n"
     ]
    }
   ],
   "source": [
    "test_name = 'John David Washington'\n",
    "x_test = tsne_cos_df[tsne_cos_df['actor_name'] == test_name][0].values[0]\n",
    "y_test = tsne_cos_df[tsne_cos_df['actor_name'] == test_name][1].values[0]\n",
    "print(x_test, y_test)"
   ]
  },
  {
   "cell_type": "code",
   "execution_count": 12,
   "id": "38526043-d5e8-4a5c-994e-b527fc8dcd3a",
   "metadata": {},
   "outputs": [
    {
     "name": "stdout",
     "output_type": "stream",
     "text": [
      "9.736814092426075 0.975122970812483\n"
     ]
    }
   ],
   "source": [
    "tar_name = 'Dwayne Johnson'\n",
    "x_tar = tsne_cos_df[tsne_cos_df['actor_name'] == tar_name][0].values[0]\n",
    "y_tar = tsne_cos_df[tsne_cos_df['actor_name'] == tar_name][1].values[0]\n",
    "print(x_tar, y_tar)"
   ]
  },
  {
   "cell_type": "code",
   "execution_count": 15,
   "id": "c580fbec-0801-4c37-ad2a-c48bd53a621c",
   "metadata": {},
   "outputs": [],
   "source": [
    "xpos,ypos = x_tar,y_tar\n",
    "shift = 1\n",
    "xup,yup,xdown,ydown = xpos+shift,ypos+shift,xpos-shift,ypos-shift\n",
    "tsne_small =  tsne_cos_df[(tsne_cos_df[0] < xup) & (tsne_cos_df[0] > xdown) & (tsne_cos_df[1] < yup) & (tsne_cos_df[1] > ydown)]"
   ]
  },
  {
   "cell_type": "code",
   "execution_count": 16,
   "id": "ef26fd47-4886-42b7-8c20-a59e018a1860",
   "metadata": {},
   "outputs": [
    {
     "data": {
      "application/vnd.plotly.v1+json": {
       "config": {
        "plotlyServerURL": "https://plot.ly"
       },
       "data": [
        {
         "hovertemplate": "0=%{x}<br>1=%{y}<br>actor_name=%{text}<extra></extra>",
         "legendgroup": "",
         "marker": {
          "color": "#636efa",
          "size": 6,
          "symbol": "circle"
         },
         "mode": "markers+text",
         "name": "",
         "orientation": "v",
         "showlegend": false,
         "text": [
          "Michael Chiklis",
          "Dwayne Johnson",
          "Michael C. Hall",
          "Julie Benz",
          "Jennifer Morrison",
          "Mark Boone Junior",
          "Jennifer Carpenter",
          "Annabeth Gish",
          "Shawn Hatosy",
          "Mel Rodriguez",
          "Catherine Dent",
          "Taye Diggs",
          "Corey Stoll",
          "Terry O'Quinn",
          "Moon Bloodgood",
          "Britt Robertson",
          "Ryan Phillippe",
          "K.J. Apa",
          "Desmond Harrington",
          "Marisol Nichols",
          "Katheryn Winnick",
          "Hunter Parrish",
          "Clive Standen",
          "Lucas Till",
          "Michael Cudlitz",
          "Sarah Jones",
          "Rex Linn",
          "Steve Zahn",
          "Alexandra Daddario",
          "Skeet Ulrich",
          "Luna Lauren Velez",
          "Laura Allen",
          "Kevin Durand",
          "Jay Hernandez",
          "Camila Mendes",
          "Lili Reinhart",
          "C.S. Lee",
          "Mason Cook",
          "Rick Gonzalez",
          "Larenz Tate",
          "Vanessa Hudgens",
          "Kyle Gallner",
          "Matthew Marsden",
          "KaDee Strickland",
          "Cam Gigandet",
          "Pedro Pascal",
          "Andre Royo",
          "Boyd Holbrook",
          "David Zayas",
          "Alexander Ludwig",
          "John David Washington",
          "Diego Boneta",
          "Richard Schiff",
          "Lyndie Greenwood",
          "Sung Kang",
          "Tory Kittles",
          "Kylie Bunbury",
          "Keean Johnson",
          "RZA",
          "Usman Ally",
          "Michelle Rodriguez",
          "Emayatzy Corinealdi",
          "Paul Walker",
          "Ramon Rodriguez",
          "Nikki Reed",
          "Sarah Habel",
          "Anna Wood",
          "Matthew W. Allen",
          "Beth Ditto",
          "Ben Rappaport",
          "Inbar Lavi",
          "Shawn Shultz",
          "Shiloh Fernandez",
          "Michael Hyatt",
          "Yul Vazquez",
          "Hana Mae Lee"
         ],
         "textposition": "top center",
         "type": "scatter",
         "x": [
          10.428994404742566,
          9.736814092426075,
          9.911380360695757,
          9.872591355547161,
          8.746991628122585,
          10.549531677360324,
          9.908043163676465,
          9.742768231757692,
          8.937052169709014,
          9.592502106926075,
          10.440673965982072,
          9.382312282644918,
          10.364135312909783,
          9.457085517751883,
          9.762390249985692,
          10.426388764515922,
          8.821542657553689,
          9.80235758299898,
          10.267388491665177,
          9.85571085723485,
          10.611053870646039,
          10.673814152769017,
          10.528600821606867,
          8.802013806270539,
          9.151002121716244,
          10.01691728235656,
          10.278250246261345,
          9.361645509933451,
          9.482961090524734,
          10.061233461558482,
          10.388258832490086,
          10.439288216127764,
          10.0479717617184,
          9.560078570460407,
          9.84971426702291,
          9.941770118517999,
          10.041781383961371,
          10.54800029530593,
          8.90527616169442,
          8.906620299672888,
          9.869258776115736,
          10.458990879017504,
          9.732144205502488,
          9.578741395549812,
          8.913267264636849,
          9.621391876844616,
          10.337452318854988,
          9.640418314091272,
          10.572034285053771,
          10.608717224200594,
          9.789059536512301,
          8.900444201383497,
          9.239984510664964,
          8.75215599771508,
          9.46486423568848,
          9.02497090054993,
          9.338917403902029,
          9.585979591690187,
          9.451224326566747,
          9.476454006586115,
          9.65070644224001,
          10.323101976398382,
          9.040725298127422,
          9.577971632959125,
          9.495709575830997,
          8.939891322952771,
          8.808721783570899,
          8.92117294305527,
          9.693685585564948,
          10.424981121642372,
          9.182536072047462,
          9.935026608595754,
          10.701605835043388,
          9.981213544330563,
          10.490021845306218,
          9.670139082455284
         ],
         "xaxis": "x",
         "y": [
          1.0311859021262757,
          0.975122970812483,
          0.7349014167523499,
          0.550106131942489,
          0.0931083905697429,
          0.0679880791502178,
          0.7891043963338098,
          0.002371195272455728,
          0.8120111466934489,
          -0.018644559365403903,
          1.0224117757372926,
          1.7614734653164525,
          1.4613703615391935,
          1.421152512865324,
          1.9201942926502378,
          0.9146714215000995,
          1.4916224218037777,
          1.3586639807828795,
          1.0822699704437269,
          1.540222093510917,
          0.6286233067007161,
          1.6272647540781,
          0.1031905685561194,
          1.773027656665687,
          1.0691050648894416,
          1.433672682057425,
          1.5526102876337695,
          1.9182687290375453,
          1.0571414819029161,
          1.4769846347929692,
          1.1284531032457457,
          1.868603140694496,
          1.301957150309046,
          1.6026237588682004,
          1.5445431356594226,
          1.5217961538638887,
          0.9618651299138876,
          1.6791825148927462,
          0.5441982215489823,
          0.5788014256386859,
          0.49430753853142584,
          0.10503838233907067,
          0.38986733911841565,
          1.4871043004161142,
          0.777860852354216,
          0.6068103257444715,
          0.1756908940988028,
          0.6301202235504771,
          1.313246167305986,
          0.6578744305146266,
          1.0701893835130256,
          0.48688127826277455,
          1.4303851198894855,
          0.14225886693957476,
          1.4533244703285506,
          1.1804988944198949,
          1.9005231009269032,
          1.6911296498823711,
          1.5001271571779802,
          0.09097935128890565,
          1.4840622476096776,
          0.2774599751539899,
          0.9558249777735662,
          1.6235688308201375,
          0.33160375182936475,
          0.6337590477154406,
          0.5037409160704842,
          1.1287340343443393,
          0.051739597145073174,
          1.1422732958615402,
          1.4571287188982753,
          0.8488314250436428,
          1.5472596577921314,
          0.13922081593740743,
          1.5354861298850466,
          1.1570131375414467
         ],
         "yaxis": "y"
        }
       ],
       "layout": {
        "font": {
         "size": 12
        },
        "height": 700,
        "legend": {
         "tracegroupgap": 0
        },
        "template": {
         "data": {
          "bar": [
           {
            "error_x": {
             "color": "#2a3f5f"
            },
            "error_y": {
             "color": "#2a3f5f"
            },
            "marker": {
             "line": {
              "color": "#E5ECF6",
              "width": 0.5
             },
             "pattern": {
              "fillmode": "overlay",
              "size": 10,
              "solidity": 0.2
             }
            },
            "type": "bar"
           }
          ],
          "barpolar": [
           {
            "marker": {
             "line": {
              "color": "#E5ECF6",
              "width": 0.5
             },
             "pattern": {
              "fillmode": "overlay",
              "size": 10,
              "solidity": 0.2
             }
            },
            "type": "barpolar"
           }
          ],
          "carpet": [
           {
            "aaxis": {
             "endlinecolor": "#2a3f5f",
             "gridcolor": "white",
             "linecolor": "white",
             "minorgridcolor": "white",
             "startlinecolor": "#2a3f5f"
            },
            "baxis": {
             "endlinecolor": "#2a3f5f",
             "gridcolor": "white",
             "linecolor": "white",
             "minorgridcolor": "white",
             "startlinecolor": "#2a3f5f"
            },
            "type": "carpet"
           }
          ],
          "choropleth": [
           {
            "colorbar": {
             "outlinewidth": 0,
             "ticks": ""
            },
            "type": "choropleth"
           }
          ],
          "contour": [
           {
            "colorbar": {
             "outlinewidth": 0,
             "ticks": ""
            },
            "colorscale": [
             [
              0,
              "#0d0887"
             ],
             [
              0.1111111111111111,
              "#46039f"
             ],
             [
              0.2222222222222222,
              "#7201a8"
             ],
             [
              0.3333333333333333,
              "#9c179e"
             ],
             [
              0.4444444444444444,
              "#bd3786"
             ],
             [
              0.5555555555555556,
              "#d8576b"
             ],
             [
              0.6666666666666666,
              "#ed7953"
             ],
             [
              0.7777777777777778,
              "#fb9f3a"
             ],
             [
              0.8888888888888888,
              "#fdca26"
             ],
             [
              1,
              "#f0f921"
             ]
            ],
            "type": "contour"
           }
          ],
          "contourcarpet": [
           {
            "colorbar": {
             "outlinewidth": 0,
             "ticks": ""
            },
            "type": "contourcarpet"
           }
          ],
          "heatmap": [
           {
            "colorbar": {
             "outlinewidth": 0,
             "ticks": ""
            },
            "colorscale": [
             [
              0,
              "#0d0887"
             ],
             [
              0.1111111111111111,
              "#46039f"
             ],
             [
              0.2222222222222222,
              "#7201a8"
             ],
             [
              0.3333333333333333,
              "#9c179e"
             ],
             [
              0.4444444444444444,
              "#bd3786"
             ],
             [
              0.5555555555555556,
              "#d8576b"
             ],
             [
              0.6666666666666666,
              "#ed7953"
             ],
             [
              0.7777777777777778,
              "#fb9f3a"
             ],
             [
              0.8888888888888888,
              "#fdca26"
             ],
             [
              1,
              "#f0f921"
             ]
            ],
            "type": "heatmap"
           }
          ],
          "heatmapgl": [
           {
            "colorbar": {
             "outlinewidth": 0,
             "ticks": ""
            },
            "colorscale": [
             [
              0,
              "#0d0887"
             ],
             [
              0.1111111111111111,
              "#46039f"
             ],
             [
              0.2222222222222222,
              "#7201a8"
             ],
             [
              0.3333333333333333,
              "#9c179e"
             ],
             [
              0.4444444444444444,
              "#bd3786"
             ],
             [
              0.5555555555555556,
              "#d8576b"
             ],
             [
              0.6666666666666666,
              "#ed7953"
             ],
             [
              0.7777777777777778,
              "#fb9f3a"
             ],
             [
              0.8888888888888888,
              "#fdca26"
             ],
             [
              1,
              "#f0f921"
             ]
            ],
            "type": "heatmapgl"
           }
          ],
          "histogram": [
           {
            "marker": {
             "pattern": {
              "fillmode": "overlay",
              "size": 10,
              "solidity": 0.2
             }
            },
            "type": "histogram"
           }
          ],
          "histogram2d": [
           {
            "colorbar": {
             "outlinewidth": 0,
             "ticks": ""
            },
            "colorscale": [
             [
              0,
              "#0d0887"
             ],
             [
              0.1111111111111111,
              "#46039f"
             ],
             [
              0.2222222222222222,
              "#7201a8"
             ],
             [
              0.3333333333333333,
              "#9c179e"
             ],
             [
              0.4444444444444444,
              "#bd3786"
             ],
             [
              0.5555555555555556,
              "#d8576b"
             ],
             [
              0.6666666666666666,
              "#ed7953"
             ],
             [
              0.7777777777777778,
              "#fb9f3a"
             ],
             [
              0.8888888888888888,
              "#fdca26"
             ],
             [
              1,
              "#f0f921"
             ]
            ],
            "type": "histogram2d"
           }
          ],
          "histogram2dcontour": [
           {
            "colorbar": {
             "outlinewidth": 0,
             "ticks": ""
            },
            "colorscale": [
             [
              0,
              "#0d0887"
             ],
             [
              0.1111111111111111,
              "#46039f"
             ],
             [
              0.2222222222222222,
              "#7201a8"
             ],
             [
              0.3333333333333333,
              "#9c179e"
             ],
             [
              0.4444444444444444,
              "#bd3786"
             ],
             [
              0.5555555555555556,
              "#d8576b"
             ],
             [
              0.6666666666666666,
              "#ed7953"
             ],
             [
              0.7777777777777778,
              "#fb9f3a"
             ],
             [
              0.8888888888888888,
              "#fdca26"
             ],
             [
              1,
              "#f0f921"
             ]
            ],
            "type": "histogram2dcontour"
           }
          ],
          "mesh3d": [
           {
            "colorbar": {
             "outlinewidth": 0,
             "ticks": ""
            },
            "type": "mesh3d"
           }
          ],
          "parcoords": [
           {
            "line": {
             "colorbar": {
              "outlinewidth": 0,
              "ticks": ""
             }
            },
            "type": "parcoords"
           }
          ],
          "pie": [
           {
            "automargin": true,
            "type": "pie"
           }
          ],
          "scatter": [
           {
            "marker": {
             "colorbar": {
              "outlinewidth": 0,
              "ticks": ""
             }
            },
            "type": "scatter"
           }
          ],
          "scatter3d": [
           {
            "line": {
             "colorbar": {
              "outlinewidth": 0,
              "ticks": ""
             }
            },
            "marker": {
             "colorbar": {
              "outlinewidth": 0,
              "ticks": ""
             }
            },
            "type": "scatter3d"
           }
          ],
          "scattercarpet": [
           {
            "marker": {
             "colorbar": {
              "outlinewidth": 0,
              "ticks": ""
             }
            },
            "type": "scattercarpet"
           }
          ],
          "scattergeo": [
           {
            "marker": {
             "colorbar": {
              "outlinewidth": 0,
              "ticks": ""
             }
            },
            "type": "scattergeo"
           }
          ],
          "scattergl": [
           {
            "marker": {
             "colorbar": {
              "outlinewidth": 0,
              "ticks": ""
             }
            },
            "type": "scattergl"
           }
          ],
          "scattermapbox": [
           {
            "marker": {
             "colorbar": {
              "outlinewidth": 0,
              "ticks": ""
             }
            },
            "type": "scattermapbox"
           }
          ],
          "scatterpolar": [
           {
            "marker": {
             "colorbar": {
              "outlinewidth": 0,
              "ticks": ""
             }
            },
            "type": "scatterpolar"
           }
          ],
          "scatterpolargl": [
           {
            "marker": {
             "colorbar": {
              "outlinewidth": 0,
              "ticks": ""
             }
            },
            "type": "scatterpolargl"
           }
          ],
          "scatterternary": [
           {
            "marker": {
             "colorbar": {
              "outlinewidth": 0,
              "ticks": ""
             }
            },
            "type": "scatterternary"
           }
          ],
          "surface": [
           {
            "colorbar": {
             "outlinewidth": 0,
             "ticks": ""
            },
            "colorscale": [
             [
              0,
              "#0d0887"
             ],
             [
              0.1111111111111111,
              "#46039f"
             ],
             [
              0.2222222222222222,
              "#7201a8"
             ],
             [
              0.3333333333333333,
              "#9c179e"
             ],
             [
              0.4444444444444444,
              "#bd3786"
             ],
             [
              0.5555555555555556,
              "#d8576b"
             ],
             [
              0.6666666666666666,
              "#ed7953"
             ],
             [
              0.7777777777777778,
              "#fb9f3a"
             ],
             [
              0.8888888888888888,
              "#fdca26"
             ],
             [
              1,
              "#f0f921"
             ]
            ],
            "type": "surface"
           }
          ],
          "table": [
           {
            "cells": {
             "fill": {
              "color": "#EBF0F8"
             },
             "line": {
              "color": "white"
             }
            },
            "header": {
             "fill": {
              "color": "#C8D4E3"
             },
             "line": {
              "color": "white"
             }
            },
            "type": "table"
           }
          ]
         },
         "layout": {
          "annotationdefaults": {
           "arrowcolor": "#2a3f5f",
           "arrowhead": 0,
           "arrowwidth": 1
          },
          "autotypenumbers": "strict",
          "coloraxis": {
           "colorbar": {
            "outlinewidth": 0,
            "ticks": ""
           }
          },
          "colorscale": {
           "diverging": [
            [
             0,
             "#8e0152"
            ],
            [
             0.1,
             "#c51b7d"
            ],
            [
             0.2,
             "#de77ae"
            ],
            [
             0.3,
             "#f1b6da"
            ],
            [
             0.4,
             "#fde0ef"
            ],
            [
             0.5,
             "#f7f7f7"
            ],
            [
             0.6,
             "#e6f5d0"
            ],
            [
             0.7,
             "#b8e186"
            ],
            [
             0.8,
             "#7fbc41"
            ],
            [
             0.9,
             "#4d9221"
            ],
            [
             1,
             "#276419"
            ]
           ],
           "sequential": [
            [
             0,
             "#0d0887"
            ],
            [
             0.1111111111111111,
             "#46039f"
            ],
            [
             0.2222222222222222,
             "#7201a8"
            ],
            [
             0.3333333333333333,
             "#9c179e"
            ],
            [
             0.4444444444444444,
             "#bd3786"
            ],
            [
             0.5555555555555556,
             "#d8576b"
            ],
            [
             0.6666666666666666,
             "#ed7953"
            ],
            [
             0.7777777777777778,
             "#fb9f3a"
            ],
            [
             0.8888888888888888,
             "#fdca26"
            ],
            [
             1,
             "#f0f921"
            ]
           ],
           "sequentialminus": [
            [
             0,
             "#0d0887"
            ],
            [
             0.1111111111111111,
             "#46039f"
            ],
            [
             0.2222222222222222,
             "#7201a8"
            ],
            [
             0.3333333333333333,
             "#9c179e"
            ],
            [
             0.4444444444444444,
             "#bd3786"
            ],
            [
             0.5555555555555556,
             "#d8576b"
            ],
            [
             0.6666666666666666,
             "#ed7953"
            ],
            [
             0.7777777777777778,
             "#fb9f3a"
            ],
            [
             0.8888888888888888,
             "#fdca26"
            ],
            [
             1,
             "#f0f921"
            ]
           ]
          },
          "colorway": [
           "#636efa",
           "#EF553B",
           "#00cc96",
           "#ab63fa",
           "#FFA15A",
           "#19d3f3",
           "#FF6692",
           "#B6E880",
           "#FF97FF",
           "#FECB52"
          ],
          "font": {
           "color": "#2a3f5f"
          },
          "geo": {
           "bgcolor": "white",
           "lakecolor": "white",
           "landcolor": "#E5ECF6",
           "showlakes": true,
           "showland": true,
           "subunitcolor": "white"
          },
          "hoverlabel": {
           "align": "left"
          },
          "hovermode": "closest",
          "mapbox": {
           "style": "light"
          },
          "paper_bgcolor": "white",
          "plot_bgcolor": "#E5ECF6",
          "polar": {
           "angularaxis": {
            "gridcolor": "white",
            "linecolor": "white",
            "ticks": ""
           },
           "bgcolor": "#E5ECF6",
           "radialaxis": {
            "gridcolor": "white",
            "linecolor": "white",
            "ticks": ""
           }
          },
          "scene": {
           "xaxis": {
            "backgroundcolor": "#E5ECF6",
            "gridcolor": "white",
            "gridwidth": 2,
            "linecolor": "white",
            "showbackground": true,
            "ticks": "",
            "zerolinecolor": "white"
           },
           "yaxis": {
            "backgroundcolor": "#E5ECF6",
            "gridcolor": "white",
            "gridwidth": 2,
            "linecolor": "white",
            "showbackground": true,
            "ticks": "",
            "zerolinecolor": "white"
           },
           "zaxis": {
            "backgroundcolor": "#E5ECF6",
            "gridcolor": "white",
            "gridwidth": 2,
            "linecolor": "white",
            "showbackground": true,
            "ticks": "",
            "zerolinecolor": "white"
           }
          },
          "shapedefaults": {
           "line": {
            "color": "#2a3f5f"
           }
          },
          "ternary": {
           "aaxis": {
            "gridcolor": "white",
            "linecolor": "white",
            "ticks": ""
           },
           "baxis": {
            "gridcolor": "white",
            "linecolor": "white",
            "ticks": ""
           },
           "bgcolor": "#E5ECF6",
           "caxis": {
            "gridcolor": "white",
            "linecolor": "white",
            "ticks": ""
           }
          },
          "title": {
           "x": 0.05
          },
          "xaxis": {
           "automargin": true,
           "gridcolor": "white",
           "linecolor": "white",
           "ticks": "",
           "title": {
            "standoff": 15
           },
           "zerolinecolor": "white",
           "zerolinewidth": 2
          },
          "yaxis": {
           "automargin": true,
           "gridcolor": "white",
           "linecolor": "white",
           "ticks": "",
           "title": {
            "standoff": 15
           },
           "zerolinecolor": "white",
           "zerolinewidth": 2
          }
         }
        },
        "title": {
         "text": "t-SNE(cosine)"
        },
        "width": 1000,
        "xaxis": {
         "anchor": "y",
         "autorange": true,
         "domain": [
          0,
          1
         ],
         "range": [
          8.62752122068554,
          10.821076242480432
         ],
         "title": {
          "text": "0"
         },
         "type": "linear"
        },
        "yaxis": {
         "anchor": "x",
         "autorange": true,
         "domain": [
          0,
          1
         ],
         "range": [
          -0.14390070669974775,
          2.0454504399845814
         ],
         "title": {
          "text": "1"
         },
         "type": "linear"
        }
       }
      },
      "image/png": "[encoded data removed]",
      "text/html": [
       "<div>                            <div id=\"072ebdac-f207-4879-bc99-3d1ad47b188b\" class=\"plotly-graph-div\" style=\"height:700px; width:1000px;\"></div>            <script type=\"text/javascript\">                require([\"plotly\"], function(Plotly) {                    window.PLOTLYENV=window.PLOTLYENV || {};                                    if (document.getElementById(\"072ebdac-f207-4879-bc99-3d1ad47b188b\")) {                    Plotly.newPlot(                        \"072ebdac-f207-4879-bc99-3d1ad47b188b\",                        [{\"hovertemplate\":\"0=%{x}<br>1=%{y}<br>actor_name=%{text}<extra></extra>\",\"legendgroup\":\"\",\"marker\":{\"color\":\"#636efa\",\"symbol\":\"circle\",\"size\":6},\"mode\":\"markers+text\",\"name\":\"\",\"orientation\":\"v\",\"showlegend\":false,\"text\":[\"Michael Chiklis\",\"Dwayne Johnson\",\"Michael C. Hall\",\"Julie Benz\",\"Jennifer Morrison\",\"Mark Boone Junior\",\"Jennifer Carpenter\",\"Annabeth Gish\",\"Shawn Hatosy\",\"Mel Rodriguez\",\"Catherine Dent\",\"Taye Diggs\",\"Corey Stoll\",\"Terry O'Quinn\",\"Moon Bloodgood\",\"Britt Robertson\",\"Ryan Phillippe\",\"K.J. Apa\",\"Desmond Harrington\",\"Marisol Nichols\",\"Katheryn Winnick\",\"Hunter Parrish\",\"Clive Standen\",\"Lucas Till\",\"Michael Cudlitz\",\"Sarah Jones\",\"Rex Linn\",\"Steve Zahn\",\"Alexandra Daddario\",\"Skeet Ulrich\",\"Luna Lauren Velez\",\"Laura Allen\",\"Kevin Durand\",\"Jay Hernandez\",\"Camila Mendes\",\"Lili Reinhart\",\"C.S. Lee\",\"Mason Cook\",\"Rick Gonzalez\",\"Larenz Tate\",\"Vanessa Hudgens\",\"Kyle Gallner\",\"Matthew Marsden\",\"KaDee Strickland\",\"Cam Gigandet\",\"Pedro Pascal\",\"Andre Royo\",\"Boyd Holbrook\",\"David Zayas\",\"Alexander Ludwig\",\"John David Washington\",\"Diego Boneta\",\"Richard Schiff\",\"Lyndie Greenwood\",\"Sung Kang\",\"Tory Kittles\",\"Kylie Bunbury\",\"Keean Johnson\",\"RZA\",\"Usman Ally\",\"Michelle Rodriguez\",\"Emayatzy Corinealdi\",\"Paul Walker\",\"Ramon Rodriguez\",\"Nikki Reed\",\"Sarah Habel\",\"Anna Wood\",\"Matthew W. Allen\",\"Beth Ditto\",\"Ben Rappaport\",\"Inbar Lavi\",\"Shawn Shultz\",\"Shiloh Fernandez\",\"Michael Hyatt\",\"Yul Vazquez\",\"Hana Mae Lee\"],\"x\":[10.428994404742566,9.736814092426075,9.911380360695757,9.872591355547161,8.746991628122585,10.549531677360324,9.908043163676465,9.742768231757692,8.937052169709014,9.592502106926075,10.440673965982072,9.382312282644918,10.364135312909783,9.457085517751883,9.762390249985692,10.426388764515922,8.821542657553689,9.80235758299898,10.267388491665177,9.85571085723485,10.611053870646039,10.673814152769017,10.528600821606867,8.802013806270539,9.151002121716244,10.01691728235656,10.278250246261345,9.361645509933451,9.482961090524734,10.061233461558482,10.388258832490086,10.439288216127764,10.0479717617184,9.560078570460407,9.84971426702291,9.941770118517999,10.041781383961371,10.54800029530593,8.90527616169442,8.906620299672888,9.869258776115736,10.458990879017504,9.732144205502488,9.578741395549812,8.913267264636849,9.621391876844616,10.337452318854988,9.640418314091272,10.572034285053771,10.608717224200594,9.789059536512301,8.900444201383497,9.239984510664964,8.75215599771508,9.46486423568848,9.02497090054993,9.338917403902029,9.585979591690187,9.451224326566747,9.476454006586115,9.65070644224001,10.323101976398382,9.040725298127422,9.577971632959125,9.495709575830997,8.939891322952771,8.808721783570899,8.92117294305527,9.693685585564948,10.424981121642372,9.182536072047462,9.935026608595754,10.701605835043388,9.981213544330563,10.490021845306218,9.670139082455284],\"xaxis\":\"x\",\"y\":[1.0311859021262757,0.975122970812483,0.7349014167523499,0.550106131942489,0.0931083905697429,0.0679880791502178,0.7891043963338098,0.002371195272455728,0.8120111466934489,-0.018644559365403903,1.0224117757372926,1.7614734653164525,1.4613703615391935,1.421152512865324,1.9201942926502378,0.9146714215000995,1.4916224218037777,1.3586639807828795,1.0822699704437269,1.540222093510917,0.6286233067007161,1.6272647540781,0.1031905685561194,1.773027656665687,1.0691050648894416,1.433672682057425,1.5526102876337695,1.9182687290375453,1.0571414819029161,1.4769846347929692,1.1284531032457457,1.868603140694496,1.301957150309046,1.6026237588682004,1.5445431356594226,1.5217961538638887,0.9618651299138876,1.6791825148927462,0.5441982215489823,0.5788014256386859,0.49430753853142584,0.10503838233907067,0.38986733911841565,1.4871043004161142,0.777860852354216,0.6068103257444715,0.1756908940988028,0.6301202235504771,1.313246167305986,0.6578744305146266,1.0701893835130256,0.48688127826277455,1.4303851198894855,0.14225886693957476,1.4533244703285506,1.1804988944198949,1.9005231009269032,1.6911296498823711,1.5001271571779802,0.09097935128890565,1.4840622476096776,0.2774599751539899,0.9558249777735662,1.6235688308201375,0.33160375182936475,0.6337590477154406,0.5037409160704842,1.1287340343443393,0.051739597145073174,1.1422732958615402,1.4571287188982753,0.8488314250436428,1.5472596577921314,0.13922081593740743,1.5354861298850466,1.1570131375414467],\"yaxis\":\"y\",\"type\":\"scatter\",\"textposition\":\"top center\"}],                        {\"template\":{\"data\":{\"bar\":[{\"error_x\":{\"color\":\"#2a3f5f\"},\"error_y\":{\"color\":\"#2a3f5f\"},\"marker\":{\"line\":{\"color\":\"#E5ECF6\",\"width\":0.5},\"pattern\":{\"fillmode\":\"overlay\",\"size\":10,\"solidity\":0.2}},\"type\":\"bar\"}],\"barpolar\":[{\"marker\":{\"line\":{\"color\":\"#E5ECF6\",\"width\":0.5},\"pattern\":{\"fillmode\":\"overlay\",\"size\":10,\"solidity\":0.2}},\"type\":\"barpolar\"}],\"carpet\":[{\"aaxis\":{\"endlinecolor\":\"#2a3f5f\",\"gridcolor\":\"white\",\"linecolor\":\"white\",\"minorgridcolor\":\"white\",\"startlinecolor\":\"#2a3f5f\"},\"baxis\":{\"endlinecolor\":\"#2a3f5f\",\"gridcolor\":\"white\",\"linecolor\":\"white\",\"minorgridcolor\":\"white\",\"startlinecolor\":\"#2a3f5f\"},\"type\":\"carpet\"}],\"choropleth\":[{\"colorbar\":{\"outlinewidth\":0,\"ticks\":\"\"},\"type\":\"choropleth\"}],\"contour\":[{\"colorbar\":{\"outlinewidth\":0,\"ticks\":\"\"},\"colorscale\":[[0.0,\"#0d0887\"],[0.1111111111111111,\"#46039f\"],[0.2222222222222222,\"#7201a8\"],[0.3333333333333333,\"#9c179e\"],[0.4444444444444444,\"#bd3786\"],[0.5555555555555556,\"#d8576b\"],[0.6666666666666666,\"#ed7953\"],[0.7777777777777778,\"#fb9f3a\"],[0.8888888888888888,\"#fdca26\"],[1.0,\"#f0f921\"]],\"type\":\"contour\"}],\"contourcarpet\":[{\"colorbar\":{\"outlinewidth\":0,\"ticks\":\"\"},\"type\":\"contourcarpet\"}],\"heatmap\":[{\"colorbar\":{\"outlinewidth\":0,\"ticks\":\"\"},\"colorscale\":[[0.0,\"#0d0887\"],[0.1111111111111111,\"#46039f\"],[0.2222222222222222,\"#7201a8\"],[0.3333333333333333,\"#9c179e\"],[0.4444444444444444,\"#bd3786\"],[0.5555555555555556,\"#d8576b\"],[0.6666666666666666,\"#ed7953\"],[0.7777777777777778,\"#fb9f3a\"],[0.8888888888888888,\"#fdca26\"],[1.0,\"#f0f921\"]],\"type\":\"heatmap\"}],\"heatmapgl\":[{\"colorbar\":{\"outlinewidth\":0,\"ticks\":\"\"},\"colorscale\":[[0.0,\"#0d0887\"],[0.1111111111111111,\"#46039f\"],[0.2222222222222222,\"#7201a8\"],[0.3333333333333333,\"#9c179e\"],[0.4444444444444444,\"#bd3786\"],[0.5555555555555556,\"#d8576b\"],[0.6666666666666666,\"#ed7953\"],[0.7777777777777778,\"#fb9f3a\"],[0.8888888888888888,\"#fdca26\"],[1.0,\"#f0f921\"]],\"type\":\"heatmapgl\"}],\"histogram\":[{\"marker\":{\"pattern\":{\"fillmode\":\"overlay\",\"size\":10,\"solidity\":0.2}},\"type\":\"histogram\"}],\"histogram2d\":[{\"colorbar\":{\"outlinewidth\":0,\"ticks\":\"\"},\"colorscale\":[[0.0,\"#0d0887\"],[0.1111111111111111,\"#46039f\"],[0.2222222222222222,\"#7201a8\"],[0.3333333333333333,\"#9c179e\"],[0.4444444444444444,\"#bd3786\"],[0.5555555555555556,\"#d8576b\"],[0.6666666666666666,\"#ed7953\"],[0.7777777777777778,\"#fb9f3a\"],[0.8888888888888888,\"#fdca26\"],[1.0,\"#f0f921\"]],\"type\":\"histogram2d\"}],\"histogram2dcontour\":[{\"colorbar\":{\"outlinewidth\":0,\"ticks\":\"\"},\"colorscale\":[[0.0,\"#0d0887\"],[0.1111111111111111,\"#46039f\"],[0.2222222222222222,\"#7201a8\"],[0.3333333333333333,\"#9c179e\"],[0.4444444444444444,\"#bd3786\"],[0.5555555555555556,\"#d8576b\"],[0.6666666666666666,\"#ed7953\"],[0.7777777777777778,\"#fb9f3a\"],[0.8888888888888888,\"#fdca26\"],[1.0,\"#f0f921\"]],\"type\":\"histogram2dcontour\"}],\"mesh3d\":[{\"colorbar\":{\"outlinewidth\":0,\"ticks\":\"\"},\"type\":\"mesh3d\"}],\"parcoords\":[{\"line\":{\"colorbar\":{\"outlinewidth\":0,\"ticks\":\"\"}},\"type\":\"parcoords\"}],\"pie\":[{\"automargin\":true,\"type\":\"pie\"}],\"scatter\":[{\"marker\":{\"colorbar\":{\"outlinewidth\":0,\"ticks\":\"\"}},\"type\":\"scatter\"}],\"scatter3d\":[{\"line\":{\"colorbar\":{\"outlinewidth\":0,\"ticks\":\"\"}},\"marker\":{\"colorbar\":{\"outlinewidth\":0,\"ticks\":\"\"}},\"type\":\"scatter3d\"}],\"scattercarpet\":[{\"marker\":{\"colorbar\":{\"outlinewidth\":0,\"ticks\":\"\"}},\"type\":\"scattercarpet\"}],\"scattergeo\":[{\"marker\":{\"colorbar\":{\"outlinewidth\":0,\"ticks\":\"\"}},\"type\":\"scattergeo\"}],\"scattergl\":[{\"marker\":{\"colorbar\":{\"outlinewidth\":0,\"ticks\":\"\"}},\"type\":\"scattergl\"}],\"scattermapbox\":[{\"marker\":{\"colorbar\":{\"outlinewidth\":0,\"ticks\":\"\"}},\"type\":\"scattermapbox\"}],\"scatterpolar\":[{\"marker\":{\"colorbar\":{\"outlinewidth\":0,\"ticks\":\"\"}},\"type\":\"scatterpolar\"}],\"scatterpolargl\":[{\"marker\":{\"colorbar\":{\"outlinewidth\":0,\"ticks\":\"\"}},\"type\":\"scatterpolargl\"}],\"scatterternary\":[{\"marker\":{\"colorbar\":{\"outlinewidth\":0,\"ticks\":\"\"}},\"type\":\"scatterternary\"}],\"surface\":[{\"colorbar\":{\"outlinewidth\":0,\"ticks\":\"\"},\"colorscale\":[[0.0,\"#0d0887\"],[0.1111111111111111,\"#46039f\"],[0.2222222222222222,\"#7201a8\"],[0.3333333333333333,\"#9c179e\"],[0.4444444444444444,\"#bd3786\"],[0.5555555555555556,\"#d8576b\"],[0.6666666666666666,\"#ed7953\"],[0.7777777777777778,\"#fb9f3a\"],[0.8888888888888888,\"#fdca26\"],[1.0,\"#f0f921\"]],\"type\":\"surface\"}],\"table\":[{\"cells\":{\"fill\":{\"color\":\"#EBF0F8\"},\"line\":{\"color\":\"white\"}},\"header\":{\"fill\":{\"color\":\"#C8D4E3\"},\"line\":{\"color\":\"white\"}},\"type\":\"table\"}]},\"layout\":{\"annotationdefaults\":{\"arrowcolor\":\"#2a3f5f\",\"arrowhead\":0,\"arrowwidth\":1},\"autotypenumbers\":\"strict\",\"coloraxis\":{\"colorbar\":{\"outlinewidth\":0,\"ticks\":\"\"}},\"colorscale\":{\"diverging\":[[0,\"#8e0152\"],[0.1,\"#c51b7d\"],[0.2,\"#de77ae\"],[0.3,\"#f1b6da\"],[0.4,\"#fde0ef\"],[0.5,\"#f7f7f7\"],[0.6,\"#e6f5d0\"],[0.7,\"#b8e186\"],[0.8,\"#7fbc41\"],[0.9,\"#4d9221\"],[1,\"#276419\"]],\"sequential\":[[0.0,\"#0d0887\"],[0.1111111111111111,\"#46039f\"],[0.2222222222222222,\"#7201a8\"],[0.3333333333333333,\"#9c179e\"],[0.4444444444444444,\"#bd3786\"],[0.5555555555555556,\"#d8576b\"],[0.6666666666666666,\"#ed7953\"],[0.7777777777777778,\"#fb9f3a\"],[0.8888888888888888,\"#fdca26\"],[1.0,\"#f0f921\"]],\"sequentialminus\":[[0.0,\"#0d0887\"],[0.1111111111111111,\"#46039f\"],[0.2222222222222222,\"#7201a8\"],[0.3333333333333333,\"#9c179e\"],[0.4444444444444444,\"#bd3786\"],[0.5555555555555556,\"#d8576b\"],[0.6666666666666666,\"#ed7953\"],[0.7777777777777778,\"#fb9f3a\"],[0.8888888888888888,\"#fdca26\"],[1.0,\"#f0f921\"]]},\"colorway\":[\"#636efa\",\"#EF553B\",\"#00cc96\",\"#ab63fa\",\"#FFA15A\",\"#19d3f3\",\"#FF6692\",\"#B6E880\",\"#FF97FF\",\"#FECB52\"],\"font\":{\"color\":\"#2a3f5f\"},\"geo\":{\"bgcolor\":\"white\",\"lakecolor\":\"white\",\"landcolor\":\"#E5ECF6\",\"showlakes\":true,\"showland\":true,\"subunitcolor\":\"white\"},\"hoverlabel\":{\"align\":\"left\"},\"hovermode\":\"closest\",\"mapbox\":{\"style\":\"light\"},\"paper_bgcolor\":\"white\",\"plot_bgcolor\":\"#E5ECF6\",\"polar\":{\"angularaxis\":{\"gridcolor\":\"white\",\"linecolor\":\"white\",\"ticks\":\"\"},\"bgcolor\":\"#E5ECF6\",\"radialaxis\":{\"gridcolor\":\"white\",\"linecolor\":\"white\",\"ticks\":\"\"}},\"scene\":{\"xaxis\":{\"backgroundcolor\":\"#E5ECF6\",\"gridcolor\":\"white\",\"gridwidth\":2,\"linecolor\":\"white\",\"showbackground\":true,\"ticks\":\"\",\"zerolinecolor\":\"white\"},\"yaxis\":{\"backgroundcolor\":\"#E5ECF6\",\"gridcolor\":\"white\",\"gridwidth\":2,\"linecolor\":\"white\",\"showbackground\":true,\"ticks\":\"\",\"zerolinecolor\":\"white\"},\"zaxis\":{\"backgroundcolor\":\"#E5ECF6\",\"gridcolor\":\"white\",\"gridwidth\":2,\"linecolor\":\"white\",\"showbackground\":true,\"ticks\":\"\",\"zerolinecolor\":\"white\"}},\"shapedefaults\":{\"line\":{\"color\":\"#2a3f5f\"}},\"ternary\":{\"aaxis\":{\"gridcolor\":\"white\",\"linecolor\":\"white\",\"ticks\":\"\"},\"baxis\":{\"gridcolor\":\"white\",\"linecolor\":\"white\",\"ticks\":\"\"},\"bgcolor\":\"#E5ECF6\",\"caxis\":{\"gridcolor\":\"white\",\"linecolor\":\"white\",\"ticks\":\"\"}},\"title\":{\"x\":0.05},\"xaxis\":{\"automargin\":true,\"gridcolor\":\"white\",\"linecolor\":\"white\",\"ticks\":\"\",\"title\":{\"standoff\":15},\"zerolinecolor\":\"white\",\"zerolinewidth\":2},\"yaxis\":{\"automargin\":true,\"gridcolor\":\"white\",\"linecolor\":\"white\",\"ticks\":\"\",\"title\":{\"standoff\":15},\"zerolinecolor\":\"white\",\"zerolinewidth\":2}}},\"xaxis\":{\"anchor\":\"y\",\"domain\":[0.0,1.0],\"title\":{\"text\":\"0\"}},\"yaxis\":{\"anchor\":\"x\",\"domain\":[0.0,1.0],\"title\":{\"text\":\"1\"}},\"legend\":{\"tracegroupgap\":0},\"title\":{\"text\":\"t-SNE(cosine)\"},\"height\":700,\"width\":1000,\"font\":{\"size\":12}},                        {\"responsive\": true}                    ).then(function(){\n",
       "                            \n",
       "var gd = document.getElementById('072ebdac-f207-4879-bc99-3d1ad47b188b');\n",
       "var x = new MutationObserver(function (mutations, observer) {{\n",
       "        var display = window.getComputedStyle(gd).display;\n",
       "        if (!display || display === 'none') {{\n",
       "            console.log([gd, 'removed!']);\n",
       "            Plotly.purge(gd);\n",
       "            observer.disconnect();\n",
       "        }}\n",
       "}});\n",
       "\n",
       "// Listen for the removal of the full notebook cells\n",
       "var notebookContainer = gd.closest('#notebook-container');\n",
       "if (notebookContainer) {{\n",
       "    x.observe(notebookContainer, {childList: true});\n",
       "}}\n",
       "\n",
       "// Listen for the clearing of the current output cell\n",
       "var outputEl = gd.closest('.output');\n",
       "if (outputEl) {{\n",
       "    x.observe(outputEl, {childList: true});\n",
       "}}\n",
       "\n",
       "                        })                };                });            </script>        </div>"
      ]
     },
     "metadata": {},
     "output_type": "display_data"
    }
   ],
   "source": [
    "fig = px.scatter(tsne_small,x=0, y=1,title='t-SNE(cosine)',text='actor_name')\n",
    "fig.update_layout(height=700, width=1000)\n",
    "fig.update_layout(font_size=12)\n",
    "fig.update_traces(marker={'size':6},textposition='top center')\n",
    "fig.show()"
   ]
  },
  {
   "cell_type": "code",
   "execution_count": 51,
   "id": "1911e317-e2cb-4e2f-bd0d-641fbd18d2aa",
   "metadata": {},
   "outputs": [
    {
     "data": {
      "image/png": "[encoded data removed]",
      "text/plain": [
       "<Figure size 1440x1152 with 1 Axes>"
      ]
     },
     "metadata": {
      "needs_background": "light"
     },
     "output_type": "display_data"
    }
   ],
   "source": [
    "plt.figure(figsize=(20,16))\n",
    "plt.scatter(tsne_cos_df[0],tsne_cos_df[1],s=2)\n",
    "plt.show()"
   ]
  },
  {
   "cell_type": "code",
   "execution_count": null,
   "id": "86fb002a-16a4-470c-85ef-4ac401a47626",
   "metadata": {},
   "outputs": [],
   "source": []
  }
 ],
 "metadata": {
  "kernelspec": {
   "display_name": "Python 3 (ipykernel)",
   "language": "python",
   "name": "python3"
  },
  "language_info": {
   "codemirror_mode": {
    "name": "ipython",
    "version": 3
   },
   "file_extension": ".py",
   "mimetype": "text/x-python",
   "name": "python",
   "nbconvert_exporter": "python",
   "pygments_lexer": "ipython3",
   "version": "3.8.10"
  }
 },
 "nbformat": 4,
 "nbformat_minor": 5
}
